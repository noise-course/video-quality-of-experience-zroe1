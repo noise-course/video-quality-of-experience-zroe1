{
 "cells": [
  {
   "cell_type": "markdown",
   "metadata": {
    "colab_type": "text",
    "id": "zbGBJegvBuXV"
   },
   "source": [
    "# Assignment: Video Quality Inference\n",
    "\n",
    "To this point in the class, you have learned various techniques for leading and analyzing packet captures of various types, generating features from those packet captures, and training and evaluating models using those features.\n",
    "\n",
    "In this assignment, you will put all of this together, using a network traffic trace to train a model to automatically infer video quality of experience from a labeled traffic trace.\n",
    "\n",
    "## Part 1: Warmup\n",
    "\n",
    "The first part of this assignment builds directly on the hands-on activities but extends them slightly.\n",
    "\n",
    "### Extract Features from the Network Traffic\n",
    "\n",
    "Load the `netflix.pcap` file, which is a packet trace that includes network traffic. \n",
    "\n",
    "Click [here](https://github.com/noise-lab/ml-systems/blob/main/docs/notebooks/data/netflix.pcap) to download `netflix.pcap`.\n"
   ]
  },
  {
   "cell_type": "code",
   "execution_count": 1,
   "metadata": {},
   "outputs": [],
   "source": [
    "import pandas as pd"
   ]
  },
  {
   "cell_type": "code",
   "execution_count": 2,
   "metadata": {},
   "outputs": [],
   "source": [
    "# I opened wireshark and downloaded the pcap as a csv.\n",
    "# That is why the filename below is different from what you may expect\n",
    "\n",
    "packets = pd.read_csv(\"ml-systems-netflix-packets.csv\")"
   ]
  },
  {
   "cell_type": "code",
   "execution_count": 3,
   "metadata": {},
   "outputs": [
    {
     "data": {
      "text/html": [
       "<div>\n",
       "<style scoped>\n",
       "    .dataframe tbody tr th:only-of-type {\n",
       "        vertical-align: middle;\n",
       "    }\n",
       "\n",
       "    .dataframe tbody tr th {\n",
       "        vertical-align: top;\n",
       "    }\n",
       "\n",
       "    .dataframe thead th {\n",
       "        text-align: right;\n",
       "    }\n",
       "</style>\n",
       "<table border=\"1\" class=\"dataframe\">\n",
       "  <thead>\n",
       "    <tr style=\"text-align: right;\">\n",
       "      <th></th>\n",
       "      <th>No.</th>\n",
       "      <th>Time</th>\n",
       "      <th>Source</th>\n",
       "      <th>Destination</th>\n",
       "      <th>Protocol</th>\n",
       "      <th>Length</th>\n",
       "      <th>Info</th>\n",
       "      <th>dest (r)</th>\n",
       "      <th>dest(u)</th>\n",
       "      <th>src (r)</th>\n",
       "      <th>src(u)</th>\n",
       "      <th>New Column</th>\n",
       "    </tr>\n",
       "  </thead>\n",
       "  <tbody>\n",
       "    <tr>\n",
       "      <th>0</th>\n",
       "      <td>1</td>\n",
       "      <td>0.000000</td>\n",
       "      <td>192.168.43.72</td>\n",
       "      <td>128.93.77.234</td>\n",
       "      <td>DNS</td>\n",
       "      <td>77</td>\n",
       "      <td>Standard query 0xed0c A fonts.gstatic.com</td>\n",
       "      <td>53.0</td>\n",
       "      <td>53.0</td>\n",
       "      <td>55697.0</td>\n",
       "      <td>55697.0</td>\n",
       "      <td>1</td>\n",
       "    </tr>\n",
       "    <tr>\n",
       "      <th>1</th>\n",
       "      <td>2</td>\n",
       "      <td>0.000150</td>\n",
       "      <td>192.168.43.72</td>\n",
       "      <td>128.93.77.234</td>\n",
       "      <td>DNS</td>\n",
       "      <td>77</td>\n",
       "      <td>Standard query 0x301a AAAA fonts.gstatic.com</td>\n",
       "      <td>53.0</td>\n",
       "      <td>53.0</td>\n",
       "      <td>59884.0</td>\n",
       "      <td>59884.0</td>\n",
       "      <td>2</td>\n",
       "    </tr>\n",
       "    <tr>\n",
       "      <th>2</th>\n",
       "      <td>3</td>\n",
       "      <td>0.004726</td>\n",
       "      <td>192.168.43.72</td>\n",
       "      <td>128.93.77.234</td>\n",
       "      <td>DNS</td>\n",
       "      <td>87</td>\n",
       "      <td>Standard query 0x11d3 A googleads.g.doubleclic...</td>\n",
       "      <td>53.0</td>\n",
       "      <td>53.0</td>\n",
       "      <td>61223.0</td>\n",
       "      <td>61223.0</td>\n",
       "      <td>3</td>\n",
       "    </tr>\n",
       "    <tr>\n",
       "      <th>3</th>\n",
       "      <td>4</td>\n",
       "      <td>0.006522</td>\n",
       "      <td>192.168.43.72</td>\n",
       "      <td>128.93.77.234</td>\n",
       "      <td>DNS</td>\n",
       "      <td>87</td>\n",
       "      <td>Standard query 0x1284 AAAA googleads.g.doublec...</td>\n",
       "      <td>53.0</td>\n",
       "      <td>53.0</td>\n",
       "      <td>58785.0</td>\n",
       "      <td>58785.0</td>\n",
       "      <td>4</td>\n",
       "    </tr>\n",
       "    <tr>\n",
       "      <th>4</th>\n",
       "      <td>5</td>\n",
       "      <td>0.011103</td>\n",
       "      <td>192.168.43.72</td>\n",
       "      <td>128.93.77.234</td>\n",
       "      <td>DNS</td>\n",
       "      <td>78</td>\n",
       "      <td>Standard query 0x3432 AAAA ytimg.l.google.com</td>\n",
       "      <td>53.0</td>\n",
       "      <td>53.0</td>\n",
       "      <td>51938.0</td>\n",
       "      <td>51938.0</td>\n",
       "      <td>5</td>\n",
       "    </tr>\n",
       "    <tr>\n",
       "      <th>5</th>\n",
       "      <td>6</td>\n",
       "      <td>0.012354</td>\n",
       "      <td>192.168.43.72</td>\n",
       "      <td>128.93.77.234</td>\n",
       "      <td>DNS</td>\n",
       "      <td>96</td>\n",
       "      <td>Standard query 0xb756 A r4---sn-gxo5uxg-jqbe.g...</td>\n",
       "      <td>53.0</td>\n",
       "      <td>53.0</td>\n",
       "      <td>20949.0</td>\n",
       "      <td>20949.0</td>\n",
       "      <td>6</td>\n",
       "    </tr>\n",
       "    <tr>\n",
       "      <th>6</th>\n",
       "      <td>7</td>\n",
       "      <td>0.012474</td>\n",
       "      <td>192.168.43.72</td>\n",
       "      <td>128.93.77.234</td>\n",
       "      <td>DNS</td>\n",
       "      <td>75</td>\n",
       "      <td>Standard query 0x62ab A ssl.gstatic.com</td>\n",
       "      <td>53.0</td>\n",
       "      <td>53.0</td>\n",
       "      <td>58025.0</td>\n",
       "      <td>58025.0</td>\n",
       "      <td>7</td>\n",
       "    </tr>\n",
       "    <tr>\n",
       "      <th>7</th>\n",
       "      <td>8</td>\n",
       "      <td>0.012567</td>\n",
       "      <td>192.168.43.72</td>\n",
       "      <td>128.93.77.234</td>\n",
       "      <td>DNS</td>\n",
       "      <td>74</td>\n",
       "      <td>Standard query 0x42fb A www.google.com</td>\n",
       "      <td>53.0</td>\n",
       "      <td>53.0</td>\n",
       "      <td>15895.0</td>\n",
       "      <td>15895.0</td>\n",
       "      <td>8</td>\n",
       "    </tr>\n",
       "    <tr>\n",
       "      <th>8</th>\n",
       "      <td>9</td>\n",
       "      <td>0.319268</td>\n",
       "      <td>128.93.77.234</td>\n",
       "      <td>192.168.43.72</td>\n",
       "      <td>DNS</td>\n",
       "      <td>386</td>\n",
       "      <td>Standard query response 0x11d3 A 216.58.213.162</td>\n",
       "      <td>61223.0</td>\n",
       "      <td>61223.0</td>\n",
       "      <td>53.0</td>\n",
       "      <td>53.0</td>\n",
       "      <td>9</td>\n",
       "    </tr>\n",
       "    <tr>\n",
       "      <th>9</th>\n",
       "      <td>10</td>\n",
       "      <td>0.319288</td>\n",
       "      <td>192.168.43.72</td>\n",
       "      <td>128.93.77.234</td>\n",
       "      <td>DNS</td>\n",
       "      <td>75</td>\n",
       "      <td>Standard query 0x8756 A www.gstatic.com</td>\n",
       "      <td>53.0</td>\n",
       "      <td>53.0</td>\n",
       "      <td>18154.0</td>\n",
       "      <td>18154.0</td>\n",
       "      <td>10</td>\n",
       "    </tr>\n",
       "  </tbody>\n",
       "</table>\n",
       "</div>"
      ],
      "text/plain": [
       "   No.      Time         Source    Destination Protocol  Length  \\\n",
       "0    1  0.000000  192.168.43.72  128.93.77.234      DNS      77   \n",
       "1    2  0.000150  192.168.43.72  128.93.77.234      DNS      77   \n",
       "2    3  0.004726  192.168.43.72  128.93.77.234      DNS      87   \n",
       "3    4  0.006522  192.168.43.72  128.93.77.234      DNS      87   \n",
       "4    5  0.011103  192.168.43.72  128.93.77.234      DNS      78   \n",
       "5    6  0.012354  192.168.43.72  128.93.77.234      DNS      96   \n",
       "6    7  0.012474  192.168.43.72  128.93.77.234      DNS      75   \n",
       "7    8  0.012567  192.168.43.72  128.93.77.234      DNS      74   \n",
       "8    9  0.319268  128.93.77.234  192.168.43.72      DNS     386   \n",
       "9   10  0.319288  192.168.43.72  128.93.77.234      DNS      75   \n",
       "\n",
       "                                                Info  dest (r)  dest(u)  \\\n",
       "0          Standard query 0xed0c A fonts.gstatic.com      53.0     53.0   \n",
       "1       Standard query 0x301a AAAA fonts.gstatic.com      53.0     53.0   \n",
       "2  Standard query 0x11d3 A googleads.g.doubleclic...      53.0     53.0   \n",
       "3  Standard query 0x1284 AAAA googleads.g.doublec...      53.0     53.0   \n",
       "4      Standard query 0x3432 AAAA ytimg.l.google.com      53.0     53.0   \n",
       "5  Standard query 0xb756 A r4---sn-gxo5uxg-jqbe.g...      53.0     53.0   \n",
       "6            Standard query 0x62ab A ssl.gstatic.com      53.0     53.0   \n",
       "7             Standard query 0x42fb A www.google.com      53.0     53.0   \n",
       "8    Standard query response 0x11d3 A 216.58.213.162   61223.0  61223.0   \n",
       "9            Standard query 0x8756 A www.gstatic.com      53.0     53.0   \n",
       "\n",
       "   src (r)   src(u)  New Column  \n",
       "0  55697.0  55697.0           1  \n",
       "1  59884.0  59884.0           2  \n",
       "2  61223.0  61223.0           3  \n",
       "3  58785.0  58785.0           4  \n",
       "4  51938.0  51938.0           5  \n",
       "5  20949.0  20949.0           6  \n",
       "6  58025.0  58025.0           7  \n",
       "7  15895.0  15895.0           8  \n",
       "8     53.0     53.0           9  \n",
       "9  18154.0  18154.0          10  "
      ]
     },
     "execution_count": 3,
     "metadata": {},
     "output_type": "execute_result"
    }
   ],
   "source": [
    "packets.head(10)"
   ]
  },
  {
   "cell_type": "markdown",
   "metadata": {},
   "source": [
    "### Cleaning the data frame"
   ]
  },
  {
   "cell_type": "markdown",
   "metadata": {},
   "source": [
    "Before gettingstarted on the next stemp, I wanted to get a little more familiar with the data. First I wanted to answer:\n",
    "\n",
    "1. What is the difference between \"dest (r)\" and \"dest(u)\"?\n",
    "2. What is the difference between \"src (r)\" and \"src(u)\"?\n",
    "3. What is going on with the \"New Column\" column?\n",
    "\n",
    "I could of course look it up or ask Claude, but where is the fun in that? I wanted to first investigate what is going on myself."
   ]
  },
  {
   "cell_type": "code",
   "execution_count": 4,
   "metadata": {},
   "outputs": [
    {
     "data": {
      "text/plain": [
       "80"
      ]
     },
     "execution_count": 4,
     "metadata": {},
     "output_type": "execute_result"
    }
   ],
   "source": [
    "# this cell shows there are 80 instances where \"dest (r)\" is not equal to \"dest(u)\"\n",
    "len(packets) - sum(packets[\"dest (r)\"] == packets[\"dest(u)\"]) "
   ]
  },
  {
   "cell_type": "code",
   "execution_count": 5,
   "metadata": {},
   "outputs": [
    {
     "data": {
      "text/html": [
       "<div>\n",
       "<style scoped>\n",
       "    .dataframe tbody tr th:only-of-type {\n",
       "        vertical-align: middle;\n",
       "    }\n",
       "\n",
       "    .dataframe tbody tr th {\n",
       "        vertical-align: top;\n",
       "    }\n",
       "\n",
       "    .dataframe thead th {\n",
       "        text-align: right;\n",
       "    }\n",
       "</style>\n",
       "<table border=\"1\" class=\"dataframe\">\n",
       "  <thead>\n",
       "    <tr style=\"text-align: right;\">\n",
       "      <th></th>\n",
       "      <th>No.</th>\n",
       "      <th>Time</th>\n",
       "      <th>Source</th>\n",
       "      <th>Destination</th>\n",
       "      <th>Protocol</th>\n",
       "      <th>Length</th>\n",
       "      <th>Info</th>\n",
       "      <th>dest (r)</th>\n",
       "      <th>dest(u)</th>\n",
       "      <th>src (r)</th>\n",
       "      <th>src(u)</th>\n",
       "      <th>New Column</th>\n",
       "    </tr>\n",
       "  </thead>\n",
       "  <tbody>\n",
       "    <tr>\n",
       "      <th>877</th>\n",
       "      <td>878</td>\n",
       "      <td>8.391182</td>\n",
       "      <td>CeLink_0d:2b:a7</td>\n",
       "      <td>Apple_01:4c:54</td>\n",
       "      <td>ARP</td>\n",
       "      <td>60</td>\n",
       "      <td>Who has 192.168.43.72? Tell 192.168.43.1</td>\n",
       "      <td>NaN</td>\n",
       "      <td>NaN</td>\n",
       "      <td>NaN</td>\n",
       "      <td>NaN</td>\n",
       "      <td>878</td>\n",
       "    </tr>\n",
       "    <tr>\n",
       "      <th>878</th>\n",
       "      <td>879</td>\n",
       "      <td>8.391235</td>\n",
       "      <td>Apple_01:4c:54</td>\n",
       "      <td>CeLink_0d:2b:a7</td>\n",
       "      <td>ARP</td>\n",
       "      <td>42</td>\n",
       "      <td>192.168.43.72 is at e4:ce:8f:01:4c:54</td>\n",
       "      <td>NaN</td>\n",
       "      <td>NaN</td>\n",
       "      <td>NaN</td>\n",
       "      <td>NaN</td>\n",
       "      <td>879</td>\n",
       "    </tr>\n",
       "    <tr>\n",
       "      <th>2324</th>\n",
       "      <td>2325</td>\n",
       "      <td>33.085201</td>\n",
       "      <td>fe80::a021:b7ff:febb:19ec</td>\n",
       "      <td>ff02::1</td>\n",
       "      <td>ICMPv6</td>\n",
       "      <td>86</td>\n",
       "      <td>Multicast Listener Query</td>\n",
       "      <td>NaN</td>\n",
       "      <td>NaN</td>\n",
       "      <td>NaN</td>\n",
       "      <td>NaN</td>\n",
       "      <td>2325</td>\n",
       "    </tr>\n",
       "    <tr>\n",
       "      <th>2388</th>\n",
       "      <td>2389</td>\n",
       "      <td>34.215829</td>\n",
       "      <td>fe80::e6ce:8fff:fe01:4c54</td>\n",
       "      <td>ff02::1:ff01:4c54</td>\n",
       "      <td>ICMPv6</td>\n",
       "      <td>86</td>\n",
       "      <td>Multicast Listener Report</td>\n",
       "      <td>NaN</td>\n",
       "      <td>NaN</td>\n",
       "      <td>NaN</td>\n",
       "      <td>NaN</td>\n",
       "      <td>2389</td>\n",
       "    </tr>\n",
       "    <tr>\n",
       "      <th>2459</th>\n",
       "      <td>2460</td>\n",
       "      <td>35.215949</td>\n",
       "      <td>fe80::e6ce:8fff:fe01:4c54</td>\n",
       "      <td>ff02::1:ff77:3595</td>\n",
       "      <td>ICMPv6</td>\n",
       "      <td>86</td>\n",
       "      <td>Multicast Listener Report</td>\n",
       "      <td>NaN</td>\n",
       "      <td>NaN</td>\n",
       "      <td>NaN</td>\n",
       "      <td>NaN</td>\n",
       "      <td>2460</td>\n",
       "    </tr>\n",
       "  </tbody>\n",
       "</table>\n",
       "</div>"
      ],
      "text/plain": [
       "       No.       Time                     Source        Destination Protocol  \\\n",
       "877    878   8.391182            CeLink_0d:2b:a7     Apple_01:4c:54      ARP   \n",
       "878    879   8.391235             Apple_01:4c:54    CeLink_0d:2b:a7      ARP   \n",
       "2324  2325  33.085201  fe80::a021:b7ff:febb:19ec            ff02::1   ICMPv6   \n",
       "2388  2389  34.215829  fe80::e6ce:8fff:fe01:4c54  ff02::1:ff01:4c54   ICMPv6   \n",
       "2459  2460  35.215949  fe80::e6ce:8fff:fe01:4c54  ff02::1:ff77:3595   ICMPv6   \n",
       "\n",
       "      Length                                      Info  dest (r)  dest(u)  \\\n",
       "877       60  Who has 192.168.43.72? Tell 192.168.43.1       NaN      NaN   \n",
       "878       42     192.168.43.72 is at e4:ce:8f:01:4c:54       NaN      NaN   \n",
       "2324      86                  Multicast Listener Query       NaN      NaN   \n",
       "2388      86                 Multicast Listener Report       NaN      NaN   \n",
       "2459      86                 Multicast Listener Report       NaN      NaN   \n",
       "\n",
       "      src (r)  src(u)  New Column  \n",
       "877       NaN     NaN         878  \n",
       "878       NaN     NaN         879  \n",
       "2324      NaN     NaN        2325  \n",
       "2388      NaN     NaN        2389  \n",
       "2459      NaN     NaN        2460  "
      ]
     },
     "execution_count": 5,
     "metadata": {},
     "output_type": "execute_result"
    }
   ],
   "source": [
    "# we investigate what is happening in the cases where these aren't equal\n",
    "packets[packets[\"dest (r)\"] != packets[\"dest(u)\"]].head(5)"
   ]
  },
  {
   "cell_type": "code",
   "execution_count": 6,
   "metadata": {},
   "outputs": [
    {
     "name": "stdout",
     "output_type": "stream",
     "text": [
      "Empty DataFrame\n",
      "Columns: [No., Time, Source, Destination, Protocol, Length, Info, dest (r), dest(u), src (r), src(u), New Column]\n",
      "Index: []\n"
     ]
    }
   ],
   "source": [
    "# we can see that these 80 values are accounted for by NaN values\n",
    "print(packets[~packets[\"dest (r)\"].isna() & (packets[\"dest (r)\"] != packets[\"dest(u)\"])])\n",
    "\n",
    "# I used Claude on this cell to debug an issue that I was having with indexing in pandas:\n",
    "# https://claude.ai/share/d68d6049-2976-400d-9395-e8a6c1cf7f19"
   ]
  },
  {
   "cell_type": "code",
   "execution_count": 7,
   "metadata": {},
   "outputs": [
    {
     "name": "stdout",
     "output_type": "stream",
     "text": [
      "Empty DataFrame\n",
      "Columns: [No., Time, Source, Destination, Protocol, Length, Info, dest (r), dest(u), src (r), src(u), New Column]\n",
      "Index: []\n"
     ]
    }
   ],
   "source": [
    "# we can now show the same thing with \"src (r)\" and \"src(u)\"\n",
    "# we can see that these 80 values are accounted for by NaN values\n",
    "print(packets[~packets[\"src (r)\"].isna() & (packets[\"src (r)\"] != packets[\"src(u)\"])])"
   ]
  },
  {
   "cell_type": "code",
   "execution_count": 8,
   "metadata": {},
   "outputs": [],
   "source": [
    "# now we investigate the \"New Column\"\n",
    "new_col_list = packets[\"New Column\"].to_list()"
   ]
  },
  {
   "cell_type": "code",
   "execution_count": 9,
   "metadata": {},
   "outputs": [],
   "source": [
    "# now we show that it is just the row number indexed at one\n",
    "for i in range(len(new_col_list)):\n",
    "    assert i +1 == new_col_list[i]"
   ]
  },
  {
   "cell_type": "markdown",
   "metadata": {},
   "source": [
    "So to answer my original questions from above:\n",
    "\n",
    "1. The values for \"dest (r)\" and \"dest(u)\" are always identical\n",
    "2. The values for \"src (r)\" and \"src(u)\" are always identical\n",
    "3. The values in \"New Column\" contain no meaningful information.\n",
    "\n",
    "Therefore we can colapse \"dest (r)\" and \"dest(u)\" into a single \"dest\" column. Likewise, we can colapse \"src (r)\" and \"src(u)\" into a single \"src\" column. We can drop \"New Column\" entirely."
   ]
  },
  {
   "cell_type": "code",
   "execution_count": 25,
   "metadata": {},
   "outputs": [],
   "source": [
    "packets = packets.drop(['src (r)', 'dest (r)', 'New Column'], axis=1)\n",
    "packets = packets.rename(columns={\"dest(u)\": \"dest\", \"src(u)\": \"src\"})\n",
    "\n",
    "# I referenced the link below for how to drop a column in pandas\n",
    "# https://pandas.pydata.org/docs/reference/api/pandas.DataFrame.drop.html\n",
    "\n",
    "# I referenced the link below to know how to rename columns in pandas\n",
    "# https://stackoverflow.com/questions/11346283/renaming-column-names-in-pandas"
   ]
  },
  {
   "cell_type": "code",
   "execution_count": 31,
   "metadata": {},
   "outputs": [
    {
     "data": {
      "text/html": [
       "<div>\n",
       "<style scoped>\n",
       "    .dataframe tbody tr th:only-of-type {\n",
       "        vertical-align: middle;\n",
       "    }\n",
       "\n",
       "    .dataframe tbody tr th {\n",
       "        vertical-align: top;\n",
       "    }\n",
       "\n",
       "    .dataframe thead th {\n",
       "        text-align: right;\n",
       "    }\n",
       "</style>\n",
       "<table border=\"1\" class=\"dataframe\">\n",
       "  <thead>\n",
       "    <tr style=\"text-align: right;\">\n",
       "      <th></th>\n",
       "      <th>No.</th>\n",
       "      <th>Time</th>\n",
       "      <th>Source</th>\n",
       "      <th>Destination</th>\n",
       "      <th>Protocol</th>\n",
       "      <th>Length</th>\n",
       "      <th>Info</th>\n",
       "      <th>dest</th>\n",
       "      <th>src</th>\n",
       "    </tr>\n",
       "  </thead>\n",
       "  <tbody>\n",
       "    <tr>\n",
       "      <th>0</th>\n",
       "      <td>1</td>\n",
       "      <td>0.000000</td>\n",
       "      <td>192.168.43.72</td>\n",
       "      <td>128.93.77.234</td>\n",
       "      <td>DNS</td>\n",
       "      <td>77</td>\n",
       "      <td>Standard query 0xed0c A fonts.gstatic.com</td>\n",
       "      <td>53.0</td>\n",
       "      <td>55697.0</td>\n",
       "    </tr>\n",
       "    <tr>\n",
       "      <th>1</th>\n",
       "      <td>2</td>\n",
       "      <td>0.000150</td>\n",
       "      <td>192.168.43.72</td>\n",
       "      <td>128.93.77.234</td>\n",
       "      <td>DNS</td>\n",
       "      <td>77</td>\n",
       "      <td>Standard query 0x301a AAAA fonts.gstatic.com</td>\n",
       "      <td>53.0</td>\n",
       "      <td>59884.0</td>\n",
       "    </tr>\n",
       "    <tr>\n",
       "      <th>2</th>\n",
       "      <td>3</td>\n",
       "      <td>0.004726</td>\n",
       "      <td>192.168.43.72</td>\n",
       "      <td>128.93.77.234</td>\n",
       "      <td>DNS</td>\n",
       "      <td>87</td>\n",
       "      <td>Standard query 0x11d3 A googleads.g.doubleclic...</td>\n",
       "      <td>53.0</td>\n",
       "      <td>61223.0</td>\n",
       "    </tr>\n",
       "    <tr>\n",
       "      <th>3</th>\n",
       "      <td>4</td>\n",
       "      <td>0.006522</td>\n",
       "      <td>192.168.43.72</td>\n",
       "      <td>128.93.77.234</td>\n",
       "      <td>DNS</td>\n",
       "      <td>87</td>\n",
       "      <td>Standard query 0x1284 AAAA googleads.g.doublec...</td>\n",
       "      <td>53.0</td>\n",
       "      <td>58785.0</td>\n",
       "    </tr>\n",
       "    <tr>\n",
       "      <th>4</th>\n",
       "      <td>5</td>\n",
       "      <td>0.011103</td>\n",
       "      <td>192.168.43.72</td>\n",
       "      <td>128.93.77.234</td>\n",
       "      <td>DNS</td>\n",
       "      <td>78</td>\n",
       "      <td>Standard query 0x3432 AAAA ytimg.l.google.com</td>\n",
       "      <td>53.0</td>\n",
       "      <td>51938.0</td>\n",
       "    </tr>\n",
       "    <tr>\n",
       "      <th>5</th>\n",
       "      <td>6</td>\n",
       "      <td>0.012354</td>\n",
       "      <td>192.168.43.72</td>\n",
       "      <td>128.93.77.234</td>\n",
       "      <td>DNS</td>\n",
       "      <td>96</td>\n",
       "      <td>Standard query 0xb756 A r4---sn-gxo5uxg-jqbe.g...</td>\n",
       "      <td>53.0</td>\n",
       "      <td>20949.0</td>\n",
       "    </tr>\n",
       "    <tr>\n",
       "      <th>6</th>\n",
       "      <td>7</td>\n",
       "      <td>0.012474</td>\n",
       "      <td>192.168.43.72</td>\n",
       "      <td>128.93.77.234</td>\n",
       "      <td>DNS</td>\n",
       "      <td>75</td>\n",
       "      <td>Standard query 0x62ab A ssl.gstatic.com</td>\n",
       "      <td>53.0</td>\n",
       "      <td>58025.0</td>\n",
       "    </tr>\n",
       "    <tr>\n",
       "      <th>7</th>\n",
       "      <td>8</td>\n",
       "      <td>0.012567</td>\n",
       "      <td>192.168.43.72</td>\n",
       "      <td>128.93.77.234</td>\n",
       "      <td>DNS</td>\n",
       "      <td>74</td>\n",
       "      <td>Standard query 0x42fb A www.google.com</td>\n",
       "      <td>53.0</td>\n",
       "      <td>15895.0</td>\n",
       "    </tr>\n",
       "    <tr>\n",
       "      <th>8</th>\n",
       "      <td>9</td>\n",
       "      <td>0.319268</td>\n",
       "      <td>128.93.77.234</td>\n",
       "      <td>192.168.43.72</td>\n",
       "      <td>DNS</td>\n",
       "      <td>386</td>\n",
       "      <td>Standard query response 0x11d3 A 216.58.213.162</td>\n",
       "      <td>61223.0</td>\n",
       "      <td>53.0</td>\n",
       "    </tr>\n",
       "    <tr>\n",
       "      <th>9</th>\n",
       "      <td>10</td>\n",
       "      <td>0.319288</td>\n",
       "      <td>192.168.43.72</td>\n",
       "      <td>128.93.77.234</td>\n",
       "      <td>DNS</td>\n",
       "      <td>75</td>\n",
       "      <td>Standard query 0x8756 A www.gstatic.com</td>\n",
       "      <td>53.0</td>\n",
       "      <td>18154.0</td>\n",
       "    </tr>\n",
       "  </tbody>\n",
       "</table>\n",
       "</div>"
      ],
      "text/plain": [
       "   No.      Time         Source    Destination Protocol  Length  \\\n",
       "0    1  0.000000  192.168.43.72  128.93.77.234      DNS      77   \n",
       "1    2  0.000150  192.168.43.72  128.93.77.234      DNS      77   \n",
       "2    3  0.004726  192.168.43.72  128.93.77.234      DNS      87   \n",
       "3    4  0.006522  192.168.43.72  128.93.77.234      DNS      87   \n",
       "4    5  0.011103  192.168.43.72  128.93.77.234      DNS      78   \n",
       "5    6  0.012354  192.168.43.72  128.93.77.234      DNS      96   \n",
       "6    7  0.012474  192.168.43.72  128.93.77.234      DNS      75   \n",
       "7    8  0.012567  192.168.43.72  128.93.77.234      DNS      74   \n",
       "8    9  0.319268  128.93.77.234  192.168.43.72      DNS     386   \n",
       "9   10  0.319288  192.168.43.72  128.93.77.234      DNS      75   \n",
       "\n",
       "                                                Info     dest      src  \n",
       "0          Standard query 0xed0c A fonts.gstatic.com     53.0  55697.0  \n",
       "1       Standard query 0x301a AAAA fonts.gstatic.com     53.0  59884.0  \n",
       "2  Standard query 0x11d3 A googleads.g.doubleclic...     53.0  61223.0  \n",
       "3  Standard query 0x1284 AAAA googleads.g.doublec...     53.0  58785.0  \n",
       "4      Standard query 0x3432 AAAA ytimg.l.google.com     53.0  51938.0  \n",
       "5  Standard query 0xb756 A r4---sn-gxo5uxg-jqbe.g...     53.0  20949.0  \n",
       "6            Standard query 0x62ab A ssl.gstatic.com     53.0  58025.0  \n",
       "7             Standard query 0x42fb A www.google.com     53.0  15895.0  \n",
       "8    Standard query response 0x11d3 A 216.58.213.162  61223.0     53.0  \n",
       "9            Standard query 0x8756 A www.gstatic.com     53.0  18154.0  "
      ]
     },
     "execution_count": 31,
     "metadata": {},
     "output_type": "execute_result"
    }
   ],
   "source": [
    "packets.head(10)"
   ]
  },
  {
   "cell_type": "markdown",
   "metadata": {
    "colab_type": "text",
    "id": "TOPPsKpYB6PS"
   },
   "source": [
    "### Identifying the Service Type\n",
    "\n",
    "Use the DNS traffic to filter the packet trace for Netflix traffic."
   ]
  },
  {
   "cell_type": "code",
   "execution_count": 27,
   "metadata": {},
   "outputs": [],
   "source": [
    "# The variable below is from a previous hands on: https://github.com/noise-lab/ml-systems/blob/main/docs/notebooks/03-Performance-Service-Clean.ipynb\n",
    "NF_DOMAINS = ([\"nflxvideo\", \n",
    "              \"netflix\", \n",
    "              \"nflxso\", \n",
    "              \"nflxext\"])"
   ]
  },
  {
   "cell_type": "code",
   "execution_count": 28,
   "metadata": {},
   "outputs": [
    {
     "data": {
      "text/plain": [
       "{'ARP',\n",
       " 'BOOTP',\n",
       " 'DNS',\n",
       " 'EAPOL',\n",
       " 'HTTP',\n",
       " 'ICMP',\n",
       " 'ICMPv6',\n",
       " 'IGMPv2',\n",
       " 'MDNS',\n",
       " 'NBNS',\n",
       " 'SSLv2',\n",
       " 'TCP',\n",
       " 'TLSv1',\n",
       " 'TLSv1.2'}"
      ]
     },
     "execution_count": 28,
     "metadata": {},
     "output_type": "execute_result"
    }
   ],
   "source": [
    "set(packets['Protocol'])"
   ]
  },
  {
   "cell_type": "code",
   "execution_count": 29,
   "metadata": {},
   "outputs": [],
   "source": [
    "# get only DNS packets\n",
    "\n",
    "dns_packets = packets[packets[\"Protocol\"] == \"DNS\"]"
   ]
  },
  {
   "cell_type": "code",
   "execution_count": 47,
   "metadata": {},
   "outputs": [],
   "source": [
    "# I used this chat with claude to learn the syntax for how to iterate over rows\n",
    "# in a pandas dataframe:\n",
    "# https://claude.ai/share/323a5fde-d8a8-4104-81cb-f89683cd0d3c\n",
    "\n",
    "our_ip = \"192.168.43.72\"\n",
    "\n",
    "netflix_transaction_ids = set()\n",
    "netflix_ips = set()\n",
    "\n",
    "for index, row in dns_packets.iterrows():\n",
    "\n",
    "    # if the packet is a DNS response, see if the response matches any\n",
    "    # netflix query\n",
    "    third_word_in_info = row['Info'].split()[2]\n",
    "    if third_word_in_info == \"response\":\n",
    "            transaction_id = row['Info'].split()[3]\n",
    "            if transaction_id not in netflix_transaction_ids:\n",
    "                continue\n",
    "            else:\n",
    "                netflix_transaction_ids.remove(transaction_id)\n",
    "            \n",
    "            netflix_ip = row['Info'].split()[-1]\n",
    "            \n",
    "            assert '.' in netflix_ip\n",
    "            for num in netflix_ip.split('.'):\n",
    "                int(num) # make sure this doesn't throw an error\n",
    "            \n",
    "            netflix_ips.add(netflix_ip)\n",
    "\n",
    "    # if the packet is a DNS request for netflix, extract and track the\n",
    "    # transaction id\n",
    "\n",
    "    for domain in NF_DOMAINS:\n",
    "        if domain in row['Info']:\n",
    "            \n",
    "            transaction_id = row['Info'].split()[2]\n",
    "        \n",
    "            assert '0x' in transaction_id\n",
    "            netflix_transaction_ids.add(transaction_id)\n",
    "            break"
   ]
  },
  {
   "cell_type": "code",
   "execution_count": 48,
   "metadata": {},
   "outputs": [
    {
     "data": {
      "text/plain": [
       "{'198.38.120.130',\n",
       " '198.38.120.134',\n",
       " '198.38.120.137',\n",
       " '198.38.120.153',\n",
       " '198.38.120.162',\n",
       " '198.38.120.164',\n",
       " '198.38.120.166',\n",
       " '198.38.120.167',\n",
       " '23.57.80.120',\n",
       " '34.252.77.54',\n",
       " '52.19.39.146',\n",
       " '52.208.128.101',\n",
       " '52.210.133.255',\n",
       " '52.210.19.176',\n",
       " '52.48.148.78',\n",
       " '52.48.8.150'}"
      ]
     },
     "execution_count": 48,
     "metadata": {},
     "output_type": "execute_result"
    }
   ],
   "source": [
    "netflix_ips"
   ]
  },
  {
   "cell_type": "markdown",
   "metadata": {},
   "source": [
    "We have extacted our IP addresses for netflix servers using the DNS traffic. As a sanity check,\n",
    "lets now inspect the DNS packets that have these IP addresses."
   ]
  },
  {
   "cell_type": "code",
   "execution_count": 50,
   "metadata": {},
   "outputs": [
    {
     "name": "stdout",
     "output_type": "stream",
     "text": [
      "Standard query response 0x7776 A 198.38.120.130\n",
      "Standard query response 0xb19a A 52.19.39.146\n",
      "Standard query response 0x1f03 A 52.210.19.176\n",
      "Standard query response 0x37e9 A 198.38.120.153\n",
      "Standard query response 0x3049 A 23.57.80.120\n",
      "Standard query response 0x5f60 A 23.57.80.120\n",
      "Standard query response 0x6677 A 198.38.120.137\n",
      "Standard query response 0xbe57 A 23.57.80.120\n",
      "Standard query response 0x9415 A 198.38.120.167\n",
      "Standard query response 0x5542 A 34.252.77.54\n",
      "Standard query response 0x269f A 198.38.120.134\n",
      "Standard query response 0x80e9 A 198.38.120.164\n",
      "Standard query response 0xc0b4 A 198.38.120.166\n",
      "Standard query response 0x3981 A 198.38.120.162\n",
      "Standard query response 0x82dc A 52.48.148.78\n",
      "Standard query response 0x86ee A 52.48.8.150\n",
      "Standard query response 0xed3f A 52.208.128.101\n",
      "Standard query response 0xa9b1 A 52.210.133.255\n"
     ]
    }
   ],
   "source": [
    "netflix_transaction_ids = []\n",
    "for index, row in dns_packets.iterrows():\n",
    "    for ip in netflix_ips:\n",
    "        if ip in row[\"Info\"]:\n",
    "            print(row[\"Info\"])\n",
    "            netflix_transaction_ids.append(row[\"Info\"].split()[3])"
   ]
  },
  {
   "cell_type": "code",
   "execution_count": 54,
   "metadata": {},
   "outputs": [
    {
     "name": "stdout",
     "output_type": "stream",
     "text": [
      "Standard query 0xb19a A www.netflix.com\n",
      "Standard query 0x3049 A assets.nflxext.com\n",
      "Standard query 0x5f60 A codex.nflxext.com\n",
      "Standard query 0x1f03 A customerevents.netflix.com\n",
      "Standard query 0x7776 A ipv4-c001-cdg001-ix.1.oca.nflxvideo.net\n",
      "Standard query 0x37e9 A ipv4-c024-cdg001-ix.1.oca.nflxvideo.net\n",
      "Standard query response 0x7776 A 198.38.120.130\n",
      "Standard query response 0xb19a A 52.19.39.146\n",
      "Standard query response 0x1f03 A 52.210.19.176\n",
      "Standard query response 0x37e9 A 198.38.120.153\n",
      "Standard query response 0x3049 A 23.57.80.120\n",
      "Standard query response 0x5f60 A 23.57.80.120\n",
      "Standard query 0x9415 A ipv4-c072-cdg001-ix.1.oca.nflxvideo.net\n",
      "Standard query 0x6677 A occ-0-56-55.1.nflxso.net\n",
      "Standard query 0xbe57 A tp-s.nflximg.net\n",
      "Standard query response 0x6677 A 198.38.120.137\n",
      "Standard query response 0xbe57 A 23.57.80.120\n",
      "Standard query response 0x9415 A 198.38.120.167\n",
      "Standard query 0x5542 A push.prod.netflix.com\n",
      "Standard query response 0x5542 A 34.252.77.54\n",
      "Standard query 0x269f A ipv4-c005-cdg001-ix.1.oca.nflxvideo.net\n",
      "Standard query 0x80e9 A ipv4-c069-cdg001-ix.1.oca.nflxvideo.net\n",
      "Standard query 0xc0b4 A ipv4-c071-cdg001-ix.1.oca.nflxvideo.net\n",
      "Standard query response 0x269f A 198.38.120.134\n",
      "Standard query response 0x80e9 A 198.38.120.164\n",
      "Standard query response 0xc0b4 A 198.38.120.166\n",
      "Standard query 0x3981 A ipv4-c063-cdg001-ix.1.oca.nflxvideo.net\n",
      "Standard query response 0x3981 A 198.38.120.162\n",
      "Standard query 0x82dc A www.netflix.com\n",
      "Standard query 0x86ee A www.netflix.com\n",
      "Standard query response 0x82dc A 52.48.148.78\n",
      "Standard query response 0x86ee A 52.48.8.150\n",
      "Standard query 0xed3f A www.netflix.com\n",
      "Standard query 0xa9b1 A www.netflix.com\n",
      "Standard query response 0xed3f A 52.208.128.101\n",
      "Standard query response 0xa9b1 A 52.210.133.255\n"
     ]
    }
   ],
   "source": [
    "for index, row in dns_packets.iterrows():\n",
    "    for id in netflix_transaction_ids:\n",
    "        if id in row[\"Info\"]:\n",
    "            print(row[\"Info\"])"
   ]
  },
  {
   "cell_type": "markdown",
   "metadata": {
    "colab_type": "text",
    "id": "0qFV6q2OCCsK"
   },
   "source": [
    "### Generate Statistics\n",
    "\n",
    "Generate statistics and features for the Netflix traffic flows. Use the `netml` library or any other technique that you choose to generate a set of features that you think would be good features for your model. "
   ]
  },
  {
   "cell_type": "code",
   "execution_count": null,
   "metadata": {},
   "outputs": [],
   "source": []
  },
  {
   "cell_type": "markdown",
   "metadata": {
    "colab_type": "text",
    "id": "0qFV6q2OCCsK"
   },
   "source": [
    "**Write a brief justification for the features that you have chosen.**"
   ]
  },
  {
   "cell_type": "markdown",
   "metadata": {},
   "source": []
  },
  {
   "cell_type": "markdown",
   "metadata": {
    "colab_type": "text",
    "id": "lBCP_2SBC2xj"
   },
   "source": [
    "### Inferring Segment downloads\n",
    "\n",
    "In addition to the features that you could generate using the `netml` library or similar, add to your feature vector a \"segment downloads rate\" feature, which indicates the number of video segments downloaded for a given time window.\n",
    "\n",
    "Note: If you are using the `netml` library, generating features with `SAMP` style options may be useful, as this option gives you time windows, and you can then simply add the segment download rate to that existing dataframe."
   ]
  },
  {
   "cell_type": "code",
   "execution_count": null,
   "metadata": {},
   "outputs": [],
   "source": []
  },
  {
   "cell_type": "markdown",
   "metadata": {},
   "source": [
    "## Part 2: Video Quality Inference\n",
    "\n",
    "You will now load the complete video dataset from a previous study to train and test models based on these features to automatically infer the quality of a streaming video flow.\n",
    "\n",
    "For this part of the assignment, you will need two pickle files, which we provide for you by running the code below:\n",
    "\n",
    "```\n",
    "\n",
    "!gdown 'https://drive.google.com/uc?id=1N-Cf4dJ3fpak_AWgO05Fopq_XPYLVqdS' -O netflix_session.pkl\n",
    "!gdown 'https://drive.google.com/uc?id=1PHvEID7My6VZXZveCpQYy3lMo9RvMNTI' -O video_dataset.pkl\n",
    "\n",
    "```"
   ]
  },
  {
   "cell_type": "markdown",
   "metadata": {},
   "source": [
    "### Load the File\n",
    "\n",
    "Load the video dataset pickle file."
   ]
  },
  {
   "cell_type": "code",
   "execution_count": null,
   "metadata": {},
   "outputs": [],
   "source": []
  },
  {
   "cell_type": "markdown",
   "metadata": {},
   "source": [
    "### Clean the File\n",
    "\n",
    "1. The dataset contains video resolutions that are not valid. Remove entries in the dataset that do not contain a valid video resolution. Valid resolutions are 240, 360, 480, 720, 1080."
   ]
  },
  {
   "cell_type": "code",
   "execution_count": null,
   "metadata": {},
   "outputs": [],
   "source": []
  },
  {
   "cell_type": "markdown",
   "metadata": {},
   "source": [
    "2. The file also contains columns that are unnecessary (in fact, unhelpful!) for performing predictions. Identify those columns, and remove them."
   ]
  },
  {
   "cell_type": "code",
   "execution_count": null,
   "metadata": {},
   "outputs": [],
   "source": []
  },
  {
   "cell_type": "markdown",
   "metadata": {},
   "source": [
    "**Briefly explain why you removed those columns.**"
   ]
  },
  {
   "cell_type": "markdown",
   "metadata": {},
   "source": []
  },
  {
   "cell_type": "markdown",
   "metadata": {},
   "source": [
    "### Prepare Your Data\n",
    "\n",
    "Prepare your data matrix, determine your features and labels, and perform a train-test split on your data."
   ]
  },
  {
   "cell_type": "code",
   "execution_count": null,
   "metadata": {},
   "outputs": [],
   "source": []
  },
  {
   "cell_type": "markdown",
   "metadata": {},
   "source": [
    "### Train and Tune Your Model\n",
    "\n",
    "1. Select a model of your choice.\n",
    "2. Train the model using your training data."
   ]
  },
  {
   "cell_type": "code",
   "execution_count": null,
   "metadata": {},
   "outputs": [],
   "source": []
  },
  {
   "cell_type": "markdown",
   "metadata": {},
   "source": [
    "### Tune Your Model\n",
    "\n",
    "Perform hyperparameter tuning to find optimal parameters for your model."
   ]
  },
  {
   "cell_type": "code",
   "execution_count": null,
   "metadata": {},
   "outputs": [],
   "source": []
  },
  {
   "cell_type": "markdown",
   "metadata": {},
   "source": [
    "### Evaluate Your Model\n",
    "\n",
    "Evaluate your model accuracy according to the following metrics:\n",
    "\n",
    "1. Accuracy\n",
    "2. F1 Score\n",
    "3. Confusion Matrix\n",
    "4. ROC/AUC"
   ]
  },
  {
   "cell_type": "markdown",
   "metadata": {},
   "source": [
    "## Part 3: Predict the Ongoing Resolution of a Real Netflix Session\n",
    "\n",
    "Now that you have your model, it's time to put it in practice!\n",
    "\n",
    "Use a preprocessed Netflix video session to infer **and plot** the resolution at 10-second time intervals."
   ]
  },
  {
   "cell_type": "code",
   "execution_count": null,
   "metadata": {},
   "outputs": [],
   "source": []
  }
 ],
 "metadata": {
  "colab": {
   "authorship_tag": "ABX9TyM0Cd1i3qtplCsVAB9qTjxA",
   "collapsed_sections": [],
   "name": "pcap_processing_solution.ipynb",
   "provenance": []
  },
  "kernelspec": {
   "display_name": "Python 3 (ipykernel)",
   "language": "python",
   "name": "python3"
  },
  "language_info": {
   "codemirror_mode": {
    "name": "ipython",
    "version": 3
   },
   "file_extension": ".py",
   "mimetype": "text/x-python",
   "name": "python",
   "nbconvert_exporter": "python",
   "pygments_lexer": "ipython3",
   "version": "3.11.11"
  }
 },
 "nbformat": 4,
 "nbformat_minor": 4
}
