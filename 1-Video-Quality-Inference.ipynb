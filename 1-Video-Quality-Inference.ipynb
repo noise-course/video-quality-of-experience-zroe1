{
 "cells": [
  {
   "cell_type": "markdown",
   "metadata": {
    "colab_type": "text",
    "id": "zbGBJegvBuXV"
   },
   "source": [
    "# Assignment: Video Quality Inference\n",
    "\n",
    "To this point in the class, you have learned various techniques for leading and analyzing packet captures of various types, generating features from those packet captures, and training and evaluating models using those features.\n",
    "\n",
    "In this assignment, you will put all of this together, using a network traffic trace to train a model to automatically infer video quality of experience from a labeled traffic trace.\n",
    "\n",
    "## Part 1: Warmup\n",
    "\n",
    "The first part of this assignment builds directly on the hands-on activities but extends them slightly.\n",
    "\n",
    "### Extract Features from the Network Traffic\n",
    "\n",
    "Load the `netflix.pcap` file, which is a packet trace that includes network traffic. \n",
    "\n",
    "Click [here](https://github.com/noise-lab/ml-systems/blob/main/docs/notebooks/data/netflix.pcap) to download `netflix.pcap`.\n"
   ]
  },
  {
   "cell_type": "code",
   "execution_count": 22,
   "metadata": {},
   "outputs": [],
   "source": [
    "import pandas as pd\n",
    "import matplotlib.pyplot as plt"
   ]
  },
  {
   "cell_type": "code",
   "execution_count": 2,
   "metadata": {},
   "outputs": [],
   "source": [
    "# I opened wireshark and downloaded the pcap as a csv.\n",
    "# That is why the filename below is different from what you may expect\n",
    "\n",
    "packets = pd.read_csv(\"ml-systems-netflix-packets.csv\")"
   ]
  },
  {
   "cell_type": "code",
   "execution_count": 3,
   "metadata": {},
   "outputs": [
    {
     "data": {
      "text/html": [
       "<div>\n",
       "<style scoped>\n",
       "    .dataframe tbody tr th:only-of-type {\n",
       "        vertical-align: middle;\n",
       "    }\n",
       "\n",
       "    .dataframe tbody tr th {\n",
       "        vertical-align: top;\n",
       "    }\n",
       "\n",
       "    .dataframe thead th {\n",
       "        text-align: right;\n",
       "    }\n",
       "</style>\n",
       "<table border=\"1\" class=\"dataframe\">\n",
       "  <thead>\n",
       "    <tr style=\"text-align: right;\">\n",
       "      <th></th>\n",
       "      <th>No.</th>\n",
       "      <th>Time</th>\n",
       "      <th>Source</th>\n",
       "      <th>Destination</th>\n",
       "      <th>Protocol</th>\n",
       "      <th>Length</th>\n",
       "      <th>Info</th>\n",
       "      <th>dest (r)</th>\n",
       "      <th>dest(u)</th>\n",
       "      <th>src (r)</th>\n",
       "      <th>src(u)</th>\n",
       "      <th>New Column</th>\n",
       "    </tr>\n",
       "  </thead>\n",
       "  <tbody>\n",
       "    <tr>\n",
       "      <th>0</th>\n",
       "      <td>1</td>\n",
       "      <td>0.000000</td>\n",
       "      <td>192.168.43.72</td>\n",
       "      <td>128.93.77.234</td>\n",
       "      <td>DNS</td>\n",
       "      <td>77</td>\n",
       "      <td>Standard query 0xed0c A fonts.gstatic.com</td>\n",
       "      <td>53.0</td>\n",
       "      <td>53.0</td>\n",
       "      <td>55697.0</td>\n",
       "      <td>55697.0</td>\n",
       "      <td>1</td>\n",
       "    </tr>\n",
       "    <tr>\n",
       "      <th>1</th>\n",
       "      <td>2</td>\n",
       "      <td>0.000150</td>\n",
       "      <td>192.168.43.72</td>\n",
       "      <td>128.93.77.234</td>\n",
       "      <td>DNS</td>\n",
       "      <td>77</td>\n",
       "      <td>Standard query 0x301a AAAA fonts.gstatic.com</td>\n",
       "      <td>53.0</td>\n",
       "      <td>53.0</td>\n",
       "      <td>59884.0</td>\n",
       "      <td>59884.0</td>\n",
       "      <td>2</td>\n",
       "    </tr>\n",
       "    <tr>\n",
       "      <th>2</th>\n",
       "      <td>3</td>\n",
       "      <td>0.004726</td>\n",
       "      <td>192.168.43.72</td>\n",
       "      <td>128.93.77.234</td>\n",
       "      <td>DNS</td>\n",
       "      <td>87</td>\n",
       "      <td>Standard query 0x11d3 A googleads.g.doubleclic...</td>\n",
       "      <td>53.0</td>\n",
       "      <td>53.0</td>\n",
       "      <td>61223.0</td>\n",
       "      <td>61223.0</td>\n",
       "      <td>3</td>\n",
       "    </tr>\n",
       "    <tr>\n",
       "      <th>3</th>\n",
       "      <td>4</td>\n",
       "      <td>0.006522</td>\n",
       "      <td>192.168.43.72</td>\n",
       "      <td>128.93.77.234</td>\n",
       "      <td>DNS</td>\n",
       "      <td>87</td>\n",
       "      <td>Standard query 0x1284 AAAA googleads.g.doublec...</td>\n",
       "      <td>53.0</td>\n",
       "      <td>53.0</td>\n",
       "      <td>58785.0</td>\n",
       "      <td>58785.0</td>\n",
       "      <td>4</td>\n",
       "    </tr>\n",
       "    <tr>\n",
       "      <th>4</th>\n",
       "      <td>5</td>\n",
       "      <td>0.011103</td>\n",
       "      <td>192.168.43.72</td>\n",
       "      <td>128.93.77.234</td>\n",
       "      <td>DNS</td>\n",
       "      <td>78</td>\n",
       "      <td>Standard query 0x3432 AAAA ytimg.l.google.com</td>\n",
       "      <td>53.0</td>\n",
       "      <td>53.0</td>\n",
       "      <td>51938.0</td>\n",
       "      <td>51938.0</td>\n",
       "      <td>5</td>\n",
       "    </tr>\n",
       "    <tr>\n",
       "      <th>5</th>\n",
       "      <td>6</td>\n",
       "      <td>0.012354</td>\n",
       "      <td>192.168.43.72</td>\n",
       "      <td>128.93.77.234</td>\n",
       "      <td>DNS</td>\n",
       "      <td>96</td>\n",
       "      <td>Standard query 0xb756 A r4---sn-gxo5uxg-jqbe.g...</td>\n",
       "      <td>53.0</td>\n",
       "      <td>53.0</td>\n",
       "      <td>20949.0</td>\n",
       "      <td>20949.0</td>\n",
       "      <td>6</td>\n",
       "    </tr>\n",
       "    <tr>\n",
       "      <th>6</th>\n",
       "      <td>7</td>\n",
       "      <td>0.012474</td>\n",
       "      <td>192.168.43.72</td>\n",
       "      <td>128.93.77.234</td>\n",
       "      <td>DNS</td>\n",
       "      <td>75</td>\n",
       "      <td>Standard query 0x62ab A ssl.gstatic.com</td>\n",
       "      <td>53.0</td>\n",
       "      <td>53.0</td>\n",
       "      <td>58025.0</td>\n",
       "      <td>58025.0</td>\n",
       "      <td>7</td>\n",
       "    </tr>\n",
       "    <tr>\n",
       "      <th>7</th>\n",
       "      <td>8</td>\n",
       "      <td>0.012567</td>\n",
       "      <td>192.168.43.72</td>\n",
       "      <td>128.93.77.234</td>\n",
       "      <td>DNS</td>\n",
       "      <td>74</td>\n",
       "      <td>Standard query 0x42fb A www.google.com</td>\n",
       "      <td>53.0</td>\n",
       "      <td>53.0</td>\n",
       "      <td>15895.0</td>\n",
       "      <td>15895.0</td>\n",
       "      <td>8</td>\n",
       "    </tr>\n",
       "    <tr>\n",
       "      <th>8</th>\n",
       "      <td>9</td>\n",
       "      <td>0.319268</td>\n",
       "      <td>128.93.77.234</td>\n",
       "      <td>192.168.43.72</td>\n",
       "      <td>DNS</td>\n",
       "      <td>386</td>\n",
       "      <td>Standard query response 0x11d3 A 216.58.213.162</td>\n",
       "      <td>61223.0</td>\n",
       "      <td>61223.0</td>\n",
       "      <td>53.0</td>\n",
       "      <td>53.0</td>\n",
       "      <td>9</td>\n",
       "    </tr>\n",
       "    <tr>\n",
       "      <th>9</th>\n",
       "      <td>10</td>\n",
       "      <td>0.319288</td>\n",
       "      <td>192.168.43.72</td>\n",
       "      <td>128.93.77.234</td>\n",
       "      <td>DNS</td>\n",
       "      <td>75</td>\n",
       "      <td>Standard query 0x8756 A www.gstatic.com</td>\n",
       "      <td>53.0</td>\n",
       "      <td>53.0</td>\n",
       "      <td>18154.0</td>\n",
       "      <td>18154.0</td>\n",
       "      <td>10</td>\n",
       "    </tr>\n",
       "  </tbody>\n",
       "</table>\n",
       "</div>"
      ],
      "text/plain": [
       "   No.      Time         Source    Destination Protocol  Length  \\\n",
       "0    1  0.000000  192.168.43.72  128.93.77.234      DNS      77   \n",
       "1    2  0.000150  192.168.43.72  128.93.77.234      DNS      77   \n",
       "2    3  0.004726  192.168.43.72  128.93.77.234      DNS      87   \n",
       "3    4  0.006522  192.168.43.72  128.93.77.234      DNS      87   \n",
       "4    5  0.011103  192.168.43.72  128.93.77.234      DNS      78   \n",
       "5    6  0.012354  192.168.43.72  128.93.77.234      DNS      96   \n",
       "6    7  0.012474  192.168.43.72  128.93.77.234      DNS      75   \n",
       "7    8  0.012567  192.168.43.72  128.93.77.234      DNS      74   \n",
       "8    9  0.319268  128.93.77.234  192.168.43.72      DNS     386   \n",
       "9   10  0.319288  192.168.43.72  128.93.77.234      DNS      75   \n",
       "\n",
       "                                                Info  dest (r)  dest(u)  \\\n",
       "0          Standard query 0xed0c A fonts.gstatic.com      53.0     53.0   \n",
       "1       Standard query 0x301a AAAA fonts.gstatic.com      53.0     53.0   \n",
       "2  Standard query 0x11d3 A googleads.g.doubleclic...      53.0     53.0   \n",
       "3  Standard query 0x1284 AAAA googleads.g.doublec...      53.0     53.0   \n",
       "4      Standard query 0x3432 AAAA ytimg.l.google.com      53.0     53.0   \n",
       "5  Standard query 0xb756 A r4---sn-gxo5uxg-jqbe.g...      53.0     53.0   \n",
       "6            Standard query 0x62ab A ssl.gstatic.com      53.0     53.0   \n",
       "7             Standard query 0x42fb A www.google.com      53.0     53.0   \n",
       "8    Standard query response 0x11d3 A 216.58.213.162   61223.0  61223.0   \n",
       "9            Standard query 0x8756 A www.gstatic.com      53.0     53.0   \n",
       "\n",
       "   src (r)   src(u)  New Column  \n",
       "0  55697.0  55697.0           1  \n",
       "1  59884.0  59884.0           2  \n",
       "2  61223.0  61223.0           3  \n",
       "3  58785.0  58785.0           4  \n",
       "4  51938.0  51938.0           5  \n",
       "5  20949.0  20949.0           6  \n",
       "6  58025.0  58025.0           7  \n",
       "7  15895.0  15895.0           8  \n",
       "8     53.0     53.0           9  \n",
       "9  18154.0  18154.0          10  "
      ]
     },
     "execution_count": 3,
     "metadata": {},
     "output_type": "execute_result"
    }
   ],
   "source": [
    "packets.head(10)"
   ]
  },
  {
   "cell_type": "markdown",
   "metadata": {},
   "source": [
    "### Cleaning the data frame"
   ]
  },
  {
   "cell_type": "markdown",
   "metadata": {},
   "source": [
    "Before gettingstarted on the next stemp, I wanted to get a little more familiar with the data. First I wanted to answer:\n",
    "\n",
    "1. What is the difference between \"dest (r)\" and \"dest(u)\"?\n",
    "2. What is the difference between \"src (r)\" and \"src(u)\"?\n",
    "3. What is going on with the \"New Column\" column?\n",
    "\n",
    "I could of course look it up or ask Claude, but where is the fun in that? I wanted to first investigate what is going on myself."
   ]
  },
  {
   "cell_type": "code",
   "execution_count": 4,
   "metadata": {},
   "outputs": [
    {
     "data": {
      "text/plain": [
       "80"
      ]
     },
     "execution_count": 4,
     "metadata": {},
     "output_type": "execute_result"
    }
   ],
   "source": [
    "# this cell shows there are 80 instances where \"dest (r)\" is not equal to \"dest(u)\"\n",
    "len(packets) - sum(packets[\"dest (r)\"] == packets[\"dest(u)\"]) "
   ]
  },
  {
   "cell_type": "code",
   "execution_count": 5,
   "metadata": {},
   "outputs": [
    {
     "data": {
      "text/html": [
       "<div>\n",
       "<style scoped>\n",
       "    .dataframe tbody tr th:only-of-type {\n",
       "        vertical-align: middle;\n",
       "    }\n",
       "\n",
       "    .dataframe tbody tr th {\n",
       "        vertical-align: top;\n",
       "    }\n",
       "\n",
       "    .dataframe thead th {\n",
       "        text-align: right;\n",
       "    }\n",
       "</style>\n",
       "<table border=\"1\" class=\"dataframe\">\n",
       "  <thead>\n",
       "    <tr style=\"text-align: right;\">\n",
       "      <th></th>\n",
       "      <th>No.</th>\n",
       "      <th>Time</th>\n",
       "      <th>Source</th>\n",
       "      <th>Destination</th>\n",
       "      <th>Protocol</th>\n",
       "      <th>Length</th>\n",
       "      <th>Info</th>\n",
       "      <th>dest (r)</th>\n",
       "      <th>dest(u)</th>\n",
       "      <th>src (r)</th>\n",
       "      <th>src(u)</th>\n",
       "      <th>New Column</th>\n",
       "    </tr>\n",
       "  </thead>\n",
       "  <tbody>\n",
       "    <tr>\n",
       "      <th>877</th>\n",
       "      <td>878</td>\n",
       "      <td>8.391182</td>\n",
       "      <td>CeLink_0d:2b:a7</td>\n",
       "      <td>Apple_01:4c:54</td>\n",
       "      <td>ARP</td>\n",
       "      <td>60</td>\n",
       "      <td>Who has 192.168.43.72? Tell 192.168.43.1</td>\n",
       "      <td>NaN</td>\n",
       "      <td>NaN</td>\n",
       "      <td>NaN</td>\n",
       "      <td>NaN</td>\n",
       "      <td>878</td>\n",
       "    </tr>\n",
       "    <tr>\n",
       "      <th>878</th>\n",
       "      <td>879</td>\n",
       "      <td>8.391235</td>\n",
       "      <td>Apple_01:4c:54</td>\n",
       "      <td>CeLink_0d:2b:a7</td>\n",
       "      <td>ARP</td>\n",
       "      <td>42</td>\n",
       "      <td>192.168.43.72 is at e4:ce:8f:01:4c:54</td>\n",
       "      <td>NaN</td>\n",
       "      <td>NaN</td>\n",
       "      <td>NaN</td>\n",
       "      <td>NaN</td>\n",
       "      <td>879</td>\n",
       "    </tr>\n",
       "    <tr>\n",
       "      <th>2324</th>\n",
       "      <td>2325</td>\n",
       "      <td>33.085201</td>\n",
       "      <td>fe80::a021:b7ff:febb:19ec</td>\n",
       "      <td>ff02::1</td>\n",
       "      <td>ICMPv6</td>\n",
       "      <td>86</td>\n",
       "      <td>Multicast Listener Query</td>\n",
       "      <td>NaN</td>\n",
       "      <td>NaN</td>\n",
       "      <td>NaN</td>\n",
       "      <td>NaN</td>\n",
       "      <td>2325</td>\n",
       "    </tr>\n",
       "    <tr>\n",
       "      <th>2388</th>\n",
       "      <td>2389</td>\n",
       "      <td>34.215829</td>\n",
       "      <td>fe80::e6ce:8fff:fe01:4c54</td>\n",
       "      <td>ff02::1:ff01:4c54</td>\n",
       "      <td>ICMPv6</td>\n",
       "      <td>86</td>\n",
       "      <td>Multicast Listener Report</td>\n",
       "      <td>NaN</td>\n",
       "      <td>NaN</td>\n",
       "      <td>NaN</td>\n",
       "      <td>NaN</td>\n",
       "      <td>2389</td>\n",
       "    </tr>\n",
       "    <tr>\n",
       "      <th>2459</th>\n",
       "      <td>2460</td>\n",
       "      <td>35.215949</td>\n",
       "      <td>fe80::e6ce:8fff:fe01:4c54</td>\n",
       "      <td>ff02::1:ff77:3595</td>\n",
       "      <td>ICMPv6</td>\n",
       "      <td>86</td>\n",
       "      <td>Multicast Listener Report</td>\n",
       "      <td>NaN</td>\n",
       "      <td>NaN</td>\n",
       "      <td>NaN</td>\n",
       "      <td>NaN</td>\n",
       "      <td>2460</td>\n",
       "    </tr>\n",
       "  </tbody>\n",
       "</table>\n",
       "</div>"
      ],
      "text/plain": [
       "       No.       Time                     Source        Destination Protocol  \\\n",
       "877    878   8.391182            CeLink_0d:2b:a7     Apple_01:4c:54      ARP   \n",
       "878    879   8.391235             Apple_01:4c:54    CeLink_0d:2b:a7      ARP   \n",
       "2324  2325  33.085201  fe80::a021:b7ff:febb:19ec            ff02::1   ICMPv6   \n",
       "2388  2389  34.215829  fe80::e6ce:8fff:fe01:4c54  ff02::1:ff01:4c54   ICMPv6   \n",
       "2459  2460  35.215949  fe80::e6ce:8fff:fe01:4c54  ff02::1:ff77:3595   ICMPv6   \n",
       "\n",
       "      Length                                      Info  dest (r)  dest(u)  \\\n",
       "877       60  Who has 192.168.43.72? Tell 192.168.43.1       NaN      NaN   \n",
       "878       42     192.168.43.72 is at e4:ce:8f:01:4c:54       NaN      NaN   \n",
       "2324      86                  Multicast Listener Query       NaN      NaN   \n",
       "2388      86                 Multicast Listener Report       NaN      NaN   \n",
       "2459      86                 Multicast Listener Report       NaN      NaN   \n",
       "\n",
       "      src (r)  src(u)  New Column  \n",
       "877       NaN     NaN         878  \n",
       "878       NaN     NaN         879  \n",
       "2324      NaN     NaN        2325  \n",
       "2388      NaN     NaN        2389  \n",
       "2459      NaN     NaN        2460  "
      ]
     },
     "execution_count": 5,
     "metadata": {},
     "output_type": "execute_result"
    }
   ],
   "source": [
    "# we investigate what is happening in the cases where these aren't equal\n",
    "packets[packets[\"dest (r)\"] != packets[\"dest(u)\"]].head(5)"
   ]
  },
  {
   "cell_type": "code",
   "execution_count": 6,
   "metadata": {},
   "outputs": [
    {
     "name": "stdout",
     "output_type": "stream",
     "text": [
      "Empty DataFrame\n",
      "Columns: [No., Time, Source, Destination, Protocol, Length, Info, dest (r), dest(u), src (r), src(u), New Column]\n",
      "Index: []\n"
     ]
    }
   ],
   "source": [
    "# we can see that these 80 values are accounted for by NaN values\n",
    "print(packets[~packets[\"dest (r)\"].isna() & (packets[\"dest (r)\"] != packets[\"dest(u)\"])])\n",
    "\n",
    "# I used Claude on this cell to debug an issue that I was having with indexing in pandas:\n",
    "# https://claude.ai/share/d68d6049-2976-400d-9395-e8a6c1cf7f19"
   ]
  },
  {
   "cell_type": "code",
   "execution_count": 7,
   "metadata": {},
   "outputs": [
    {
     "name": "stdout",
     "output_type": "stream",
     "text": [
      "Empty DataFrame\n",
      "Columns: [No., Time, Source, Destination, Protocol, Length, Info, dest (r), dest(u), src (r), src(u), New Column]\n",
      "Index: []\n"
     ]
    }
   ],
   "source": [
    "# we can now show the same thing with \"src (r)\" and \"src(u)\"\n",
    "# we can see that these 80 values are accounted for by NaN values\n",
    "print(packets[~packets[\"src (r)\"].isna() & (packets[\"src (r)\"] != packets[\"src(u)\"])])"
   ]
  },
  {
   "cell_type": "code",
   "execution_count": 8,
   "metadata": {},
   "outputs": [],
   "source": [
    "# now we investigate the \"New Column\"\n",
    "new_col_list = packets[\"New Column\"].to_list()"
   ]
  },
  {
   "cell_type": "code",
   "execution_count": 9,
   "metadata": {},
   "outputs": [],
   "source": [
    "# now we show that it is just the row number indexed at one\n",
    "for i in range(len(new_col_list)):\n",
    "    assert i +1 == new_col_list[i]"
   ]
  },
  {
   "cell_type": "markdown",
   "metadata": {},
   "source": [
    "So to answer my original questions from above:\n",
    "\n",
    "1. The values for \"dest (r)\" and \"dest(u)\" are always identical\n",
    "2. The values for \"src (r)\" and \"src(u)\" are always identical\n",
    "3. The values in \"New Column\" contain no meaningful information.\n",
    "\n",
    "Therefore we can colapse \"dest (r)\" and \"dest(u)\" into a single \"dest\" column. Likewise, we can colapse \"src (r)\" and \"src(u)\" into a single \"src\" column. We can drop \"New Column\" entirely."
   ]
  },
  {
   "cell_type": "code",
   "execution_count": 10,
   "metadata": {},
   "outputs": [],
   "source": [
    "packets = packets.drop(['src (r)', 'dest (r)', 'New Column'], axis=1)\n",
    "packets = packets.rename(columns={\"dest(u)\": \"dest\", \"src(u)\": \"src\"})\n",
    "\n",
    "# I referenced the link below for how to drop a column in pandas\n",
    "# https://pandas.pydata.org/docs/reference/api/pandas.DataFrame.drop.html\n",
    "\n",
    "# I referenced the link below to know how to rename columns in pandas\n",
    "# https://stackoverflow.com/questions/11346283/renaming-column-names-in-pandas"
   ]
  },
  {
   "cell_type": "code",
   "execution_count": 11,
   "metadata": {},
   "outputs": [
    {
     "data": {
      "text/html": [
       "<div>\n",
       "<style scoped>\n",
       "    .dataframe tbody tr th:only-of-type {\n",
       "        vertical-align: middle;\n",
       "    }\n",
       "\n",
       "    .dataframe tbody tr th {\n",
       "        vertical-align: top;\n",
       "    }\n",
       "\n",
       "    .dataframe thead th {\n",
       "        text-align: right;\n",
       "    }\n",
       "</style>\n",
       "<table border=\"1\" class=\"dataframe\">\n",
       "  <thead>\n",
       "    <tr style=\"text-align: right;\">\n",
       "      <th></th>\n",
       "      <th>No.</th>\n",
       "      <th>Time</th>\n",
       "      <th>Source</th>\n",
       "      <th>Destination</th>\n",
       "      <th>Protocol</th>\n",
       "      <th>Length</th>\n",
       "      <th>Info</th>\n",
       "      <th>dest</th>\n",
       "      <th>src</th>\n",
       "    </tr>\n",
       "  </thead>\n",
       "  <tbody>\n",
       "    <tr>\n",
       "      <th>0</th>\n",
       "      <td>1</td>\n",
       "      <td>0.000000</td>\n",
       "      <td>192.168.43.72</td>\n",
       "      <td>128.93.77.234</td>\n",
       "      <td>DNS</td>\n",
       "      <td>77</td>\n",
       "      <td>Standard query 0xed0c A fonts.gstatic.com</td>\n",
       "      <td>53.0</td>\n",
       "      <td>55697.0</td>\n",
       "    </tr>\n",
       "    <tr>\n",
       "      <th>1</th>\n",
       "      <td>2</td>\n",
       "      <td>0.000150</td>\n",
       "      <td>192.168.43.72</td>\n",
       "      <td>128.93.77.234</td>\n",
       "      <td>DNS</td>\n",
       "      <td>77</td>\n",
       "      <td>Standard query 0x301a AAAA fonts.gstatic.com</td>\n",
       "      <td>53.0</td>\n",
       "      <td>59884.0</td>\n",
       "    </tr>\n",
       "    <tr>\n",
       "      <th>2</th>\n",
       "      <td>3</td>\n",
       "      <td>0.004726</td>\n",
       "      <td>192.168.43.72</td>\n",
       "      <td>128.93.77.234</td>\n",
       "      <td>DNS</td>\n",
       "      <td>87</td>\n",
       "      <td>Standard query 0x11d3 A googleads.g.doubleclic...</td>\n",
       "      <td>53.0</td>\n",
       "      <td>61223.0</td>\n",
       "    </tr>\n",
       "    <tr>\n",
       "      <th>3</th>\n",
       "      <td>4</td>\n",
       "      <td>0.006522</td>\n",
       "      <td>192.168.43.72</td>\n",
       "      <td>128.93.77.234</td>\n",
       "      <td>DNS</td>\n",
       "      <td>87</td>\n",
       "      <td>Standard query 0x1284 AAAA googleads.g.doublec...</td>\n",
       "      <td>53.0</td>\n",
       "      <td>58785.0</td>\n",
       "    </tr>\n",
       "    <tr>\n",
       "      <th>4</th>\n",
       "      <td>5</td>\n",
       "      <td>0.011103</td>\n",
       "      <td>192.168.43.72</td>\n",
       "      <td>128.93.77.234</td>\n",
       "      <td>DNS</td>\n",
       "      <td>78</td>\n",
       "      <td>Standard query 0x3432 AAAA ytimg.l.google.com</td>\n",
       "      <td>53.0</td>\n",
       "      <td>51938.0</td>\n",
       "    </tr>\n",
       "    <tr>\n",
       "      <th>5</th>\n",
       "      <td>6</td>\n",
       "      <td>0.012354</td>\n",
       "      <td>192.168.43.72</td>\n",
       "      <td>128.93.77.234</td>\n",
       "      <td>DNS</td>\n",
       "      <td>96</td>\n",
       "      <td>Standard query 0xb756 A r4---sn-gxo5uxg-jqbe.g...</td>\n",
       "      <td>53.0</td>\n",
       "      <td>20949.0</td>\n",
       "    </tr>\n",
       "    <tr>\n",
       "      <th>6</th>\n",
       "      <td>7</td>\n",
       "      <td>0.012474</td>\n",
       "      <td>192.168.43.72</td>\n",
       "      <td>128.93.77.234</td>\n",
       "      <td>DNS</td>\n",
       "      <td>75</td>\n",
       "      <td>Standard query 0x62ab A ssl.gstatic.com</td>\n",
       "      <td>53.0</td>\n",
       "      <td>58025.0</td>\n",
       "    </tr>\n",
       "    <tr>\n",
       "      <th>7</th>\n",
       "      <td>8</td>\n",
       "      <td>0.012567</td>\n",
       "      <td>192.168.43.72</td>\n",
       "      <td>128.93.77.234</td>\n",
       "      <td>DNS</td>\n",
       "      <td>74</td>\n",
       "      <td>Standard query 0x42fb A www.google.com</td>\n",
       "      <td>53.0</td>\n",
       "      <td>15895.0</td>\n",
       "    </tr>\n",
       "    <tr>\n",
       "      <th>8</th>\n",
       "      <td>9</td>\n",
       "      <td>0.319268</td>\n",
       "      <td>128.93.77.234</td>\n",
       "      <td>192.168.43.72</td>\n",
       "      <td>DNS</td>\n",
       "      <td>386</td>\n",
       "      <td>Standard query response 0x11d3 A 216.58.213.162</td>\n",
       "      <td>61223.0</td>\n",
       "      <td>53.0</td>\n",
       "    </tr>\n",
       "    <tr>\n",
       "      <th>9</th>\n",
       "      <td>10</td>\n",
       "      <td>0.319288</td>\n",
       "      <td>192.168.43.72</td>\n",
       "      <td>128.93.77.234</td>\n",
       "      <td>DNS</td>\n",
       "      <td>75</td>\n",
       "      <td>Standard query 0x8756 A www.gstatic.com</td>\n",
       "      <td>53.0</td>\n",
       "      <td>18154.0</td>\n",
       "    </tr>\n",
       "  </tbody>\n",
       "</table>\n",
       "</div>"
      ],
      "text/plain": [
       "   No.      Time         Source    Destination Protocol  Length  \\\n",
       "0    1  0.000000  192.168.43.72  128.93.77.234      DNS      77   \n",
       "1    2  0.000150  192.168.43.72  128.93.77.234      DNS      77   \n",
       "2    3  0.004726  192.168.43.72  128.93.77.234      DNS      87   \n",
       "3    4  0.006522  192.168.43.72  128.93.77.234      DNS      87   \n",
       "4    5  0.011103  192.168.43.72  128.93.77.234      DNS      78   \n",
       "5    6  0.012354  192.168.43.72  128.93.77.234      DNS      96   \n",
       "6    7  0.012474  192.168.43.72  128.93.77.234      DNS      75   \n",
       "7    8  0.012567  192.168.43.72  128.93.77.234      DNS      74   \n",
       "8    9  0.319268  128.93.77.234  192.168.43.72      DNS     386   \n",
       "9   10  0.319288  192.168.43.72  128.93.77.234      DNS      75   \n",
       "\n",
       "                                                Info     dest      src  \n",
       "0          Standard query 0xed0c A fonts.gstatic.com     53.0  55697.0  \n",
       "1       Standard query 0x301a AAAA fonts.gstatic.com     53.0  59884.0  \n",
       "2  Standard query 0x11d3 A googleads.g.doubleclic...     53.0  61223.0  \n",
       "3  Standard query 0x1284 AAAA googleads.g.doublec...     53.0  58785.0  \n",
       "4      Standard query 0x3432 AAAA ytimg.l.google.com     53.0  51938.0  \n",
       "5  Standard query 0xb756 A r4---sn-gxo5uxg-jqbe.g...     53.0  20949.0  \n",
       "6            Standard query 0x62ab A ssl.gstatic.com     53.0  58025.0  \n",
       "7             Standard query 0x42fb A www.google.com     53.0  15895.0  \n",
       "8    Standard query response 0x11d3 A 216.58.213.162  61223.0     53.0  \n",
       "9            Standard query 0x8756 A www.gstatic.com     53.0  18154.0  "
      ]
     },
     "execution_count": 11,
     "metadata": {},
     "output_type": "execute_result"
    }
   ],
   "source": [
    "packets.head(10)"
   ]
  },
  {
   "cell_type": "markdown",
   "metadata": {
    "colab_type": "text",
    "id": "TOPPsKpYB6PS"
   },
   "source": [
    "### Identifying the Service Type\n",
    "\n",
    "Use the DNS traffic to filter the packet trace for Netflix traffic."
   ]
  },
  {
   "cell_type": "code",
   "execution_count": 12,
   "metadata": {},
   "outputs": [],
   "source": [
    "# The variable below is from a previous hands on: https://github.com/noise-lab/ml-systems/blob/main/docs/notebooks/03-Performance-Service-Clean.ipynb\n",
    "NF_DOMAINS = ([\"nflxvideo\", \n",
    "              \"netflix\", \n",
    "              \"nflxso\", \n",
    "              \"nflxext\"])"
   ]
  },
  {
   "cell_type": "code",
   "execution_count": 13,
   "metadata": {},
   "outputs": [
    {
     "data": {
      "text/plain": [
       "{'ARP',\n",
       " 'BOOTP',\n",
       " 'DNS',\n",
       " 'EAPOL',\n",
       " 'HTTP',\n",
       " 'ICMP',\n",
       " 'ICMPv6',\n",
       " 'IGMPv2',\n",
       " 'MDNS',\n",
       " 'NBNS',\n",
       " 'SSLv2',\n",
       " 'TCP',\n",
       " 'TLSv1',\n",
       " 'TLSv1.2'}"
      ]
     },
     "execution_count": 13,
     "metadata": {},
     "output_type": "execute_result"
    }
   ],
   "source": [
    "set(packets['Protocol'])"
   ]
  },
  {
   "cell_type": "code",
   "execution_count": 14,
   "metadata": {},
   "outputs": [],
   "source": [
    "# get only DNS packets\n",
    "\n",
    "dns_packets = packets[packets[\"Protocol\"] == \"DNS\"]"
   ]
  },
  {
   "cell_type": "code",
   "execution_count": 15,
   "metadata": {},
   "outputs": [],
   "source": [
    "# I used this chat with claude to learn the syntax for how to iterate over rows\n",
    "# in a pandas dataframe:\n",
    "# https://claude.ai/share/323a5fde-d8a8-4104-81cb-f89683cd0d3c\n",
    "\n",
    "OUR_IP = \"192.168.43.72\"\n",
    "\n",
    "netflix_transaction_ids = set()\n",
    "netflix_ips = set()\n",
    "\n",
    "for index, row in dns_packets.iterrows():\n",
    "\n",
    "    # if the packet is a DNS response, see if the response matches any\n",
    "    # netflix query\n",
    "    third_word_in_info = row['Info'].split()[2]\n",
    "    if third_word_in_info == \"response\":\n",
    "            transaction_id = row['Info'].split()[3]\n",
    "            if transaction_id not in netflix_transaction_ids:\n",
    "                continue\n",
    "            else:\n",
    "                netflix_transaction_ids.remove(transaction_id)\n",
    "            \n",
    "            netflix_ip = row['Info'].split()[-1]\n",
    "            \n",
    "            assert '.' in netflix_ip\n",
    "            for num in netflix_ip.split('.'):\n",
    "                int(num) # make sure this doesn't throw an error\n",
    "            \n",
    "            netflix_ips.add(netflix_ip)\n",
    "\n",
    "    # if the packet is a DNS request for netflix, extract and track the\n",
    "    # transaction id\n",
    "\n",
    "    for domain in NF_DOMAINS:\n",
    "        if domain in row['Info']:\n",
    "            \n",
    "            transaction_id = row['Info'].split()[2]\n",
    "        \n",
    "            assert '0x' in transaction_id\n",
    "            netflix_transaction_ids.add(transaction_id)\n",
    "            break"
   ]
  },
  {
   "cell_type": "code",
   "execution_count": 16,
   "metadata": {},
   "outputs": [
    {
     "data": {
      "text/plain": [
       "{'198.38.120.130',\n",
       " '198.38.120.134',\n",
       " '198.38.120.137',\n",
       " '198.38.120.153',\n",
       " '198.38.120.162',\n",
       " '198.38.120.164',\n",
       " '198.38.120.166',\n",
       " '198.38.120.167',\n",
       " '23.57.80.120',\n",
       " '34.252.77.54',\n",
       " '52.19.39.146',\n",
       " '52.208.128.101',\n",
       " '52.210.133.255',\n",
       " '52.210.19.176',\n",
       " '52.48.148.78',\n",
       " '52.48.8.150'}"
      ]
     },
     "execution_count": 16,
     "metadata": {},
     "output_type": "execute_result"
    }
   ],
   "source": [
    "netflix_ips"
   ]
  },
  {
   "cell_type": "markdown",
   "metadata": {},
   "source": [
    "We have extacted our IP addresses for netflix servers using the DNS traffic. As a sanity check,\n",
    "lets now inspect the DNS packets that have these IP addresses."
   ]
  },
  {
   "cell_type": "code",
   "execution_count": 17,
   "metadata": {},
   "outputs": [
    {
     "name": "stdout",
     "output_type": "stream",
     "text": [
      "Standard query response 0x7776 A 198.38.120.130\n",
      "Standard query response 0xb19a A 52.19.39.146\n",
      "Standard query response 0x1f03 A 52.210.19.176\n",
      "Standard query response 0x37e9 A 198.38.120.153\n",
      "Standard query response 0x3049 A 23.57.80.120\n",
      "Standard query response 0x5f60 A 23.57.80.120\n",
      "Standard query response 0x6677 A 198.38.120.137\n",
      "Standard query response 0xbe57 A 23.57.80.120\n",
      "Standard query response 0x9415 A 198.38.120.167\n",
      "Standard query response 0x5542 A 34.252.77.54\n",
      "Standard query response 0x269f A 198.38.120.134\n",
      "Standard query response 0x80e9 A 198.38.120.164\n",
      "Standard query response 0xc0b4 A 198.38.120.166\n",
      "Standard query response 0x3981 A 198.38.120.162\n",
      "Standard query response 0x82dc A 52.48.148.78\n",
      "Standard query response 0x86ee A 52.48.8.150\n",
      "Standard query response 0xed3f A 52.208.128.101\n",
      "Standard query response 0xa9b1 A 52.210.133.255\n"
     ]
    }
   ],
   "source": [
    "netflix_transaction_ids = []\n",
    "for index, row in dns_packets.iterrows():\n",
    "    for ip in netflix_ips:\n",
    "        if ip in row[\"Info\"]:\n",
    "            print(row[\"Info\"])\n",
    "            netflix_transaction_ids.append(row[\"Info\"].split()[3])"
   ]
  },
  {
   "cell_type": "code",
   "execution_count": 18,
   "metadata": {},
   "outputs": [
    {
     "name": "stdout",
     "output_type": "stream",
     "text": [
      "Standard query 0xb19a A www.netflix.com\n",
      "Standard query 0x3049 A assets.nflxext.com\n",
      "Standard query 0x5f60 A codex.nflxext.com\n",
      "Standard query 0x1f03 A customerevents.netflix.com\n",
      "Standard query 0x7776 A ipv4-c001-cdg001-ix.1.oca.nflxvideo.net\n",
      "Standard query 0x37e9 A ipv4-c024-cdg001-ix.1.oca.nflxvideo.net\n",
      "Standard query response 0x7776 A 198.38.120.130\n",
      "Standard query response 0xb19a A 52.19.39.146\n",
      "Standard query response 0x1f03 A 52.210.19.176\n",
      "Standard query response 0x37e9 A 198.38.120.153\n",
      "Standard query response 0x3049 A 23.57.80.120\n",
      "Standard query response 0x5f60 A 23.57.80.120\n",
      "Standard query 0x9415 A ipv4-c072-cdg001-ix.1.oca.nflxvideo.net\n",
      "Standard query 0x6677 A occ-0-56-55.1.nflxso.net\n",
      "Standard query 0xbe57 A tp-s.nflximg.net\n",
      "Standard query response 0x6677 A 198.38.120.137\n",
      "Standard query response 0xbe57 A 23.57.80.120\n",
      "Standard query response 0x9415 A 198.38.120.167\n",
      "Standard query 0x5542 A push.prod.netflix.com\n",
      "Standard query response 0x5542 A 34.252.77.54\n",
      "Standard query 0x269f A ipv4-c005-cdg001-ix.1.oca.nflxvideo.net\n",
      "Standard query 0x80e9 A ipv4-c069-cdg001-ix.1.oca.nflxvideo.net\n",
      "Standard query 0xc0b4 A ipv4-c071-cdg001-ix.1.oca.nflxvideo.net\n",
      "Standard query response 0x269f A 198.38.120.134\n",
      "Standard query response 0x80e9 A 198.38.120.164\n",
      "Standard query response 0xc0b4 A 198.38.120.166\n",
      "Standard query 0x3981 A ipv4-c063-cdg001-ix.1.oca.nflxvideo.net\n",
      "Standard query response 0x3981 A 198.38.120.162\n",
      "Standard query 0x82dc A www.netflix.com\n",
      "Standard query 0x86ee A www.netflix.com\n",
      "Standard query response 0x82dc A 52.48.148.78\n",
      "Standard query response 0x86ee A 52.48.8.150\n",
      "Standard query 0xed3f A www.netflix.com\n",
      "Standard query 0xa9b1 A www.netflix.com\n",
      "Standard query response 0xed3f A 52.208.128.101\n",
      "Standard query response 0xa9b1 A 52.210.133.255\n"
     ]
    }
   ],
   "source": [
    "for index, row in dns_packets.iterrows():\n",
    "    for id in netflix_transaction_ids:\n",
    "        if id in row[\"Info\"]:\n",
    "            print(row[\"Info\"])"
   ]
  },
  {
   "cell_type": "code",
   "execution_count": 19,
   "metadata": {},
   "outputs": [],
   "source": [
    "# I used the following claude chat to figure out how to debug a pandas error\n",
    "# that I was getting in this cell\n",
    "# https://claude.ai/share/04435ca0-3f0f-42d6-8369-a475e37aa8e5\n",
    "\n",
    "only_netflix = packets[packets[\"Source\"].isin(netflix_ips) | packets[\"Destination\"].isin(netflix_ips)]"
   ]
  },
  {
   "cell_type": "code",
   "execution_count": 20,
   "metadata": {},
   "outputs": [
    {
     "data": {
      "text/html": [
       "<div>\n",
       "<style scoped>\n",
       "    .dataframe tbody tr th:only-of-type {\n",
       "        vertical-align: middle;\n",
       "    }\n",
       "\n",
       "    .dataframe tbody tr th {\n",
       "        vertical-align: top;\n",
       "    }\n",
       "\n",
       "    .dataframe thead th {\n",
       "        text-align: right;\n",
       "    }\n",
       "</style>\n",
       "<table border=\"1\" class=\"dataframe\">\n",
       "  <thead>\n",
       "    <tr style=\"text-align: right;\">\n",
       "      <th></th>\n",
       "      <th>No.</th>\n",
       "      <th>Time</th>\n",
       "      <th>Source</th>\n",
       "      <th>Destination</th>\n",
       "      <th>Protocol</th>\n",
       "      <th>Length</th>\n",
       "      <th>Info</th>\n",
       "      <th>dest</th>\n",
       "      <th>src</th>\n",
       "    </tr>\n",
       "  </thead>\n",
       "  <tbody>\n",
       "    <tr>\n",
       "      <th>107</th>\n",
       "      <td>108</td>\n",
       "      <td>2.368591</td>\n",
       "      <td>192.168.43.72</td>\n",
       "      <td>198.38.120.130</td>\n",
       "      <td>TCP</td>\n",
       "      <td>78</td>\n",
       "      <td>58451  &gt;  443 [SYN] Seq=0 Win=65535 Len=0 MSS=...</td>\n",
       "      <td>443.0</td>\n",
       "      <td>58451.0</td>\n",
       "    </tr>\n",
       "    <tr>\n",
       "      <th>109</th>\n",
       "      <td>110</td>\n",
       "      <td>2.368637</td>\n",
       "      <td>192.168.43.72</td>\n",
       "      <td>198.38.120.130</td>\n",
       "      <td>TCP</td>\n",
       "      <td>78</td>\n",
       "      <td>58452  &gt;  443 [SYN] Seq=0 Win=65535 Len=0 MSS=...</td>\n",
       "      <td>443.0</td>\n",
       "      <td>58452.0</td>\n",
       "    </tr>\n",
       "    <tr>\n",
       "      <th>110</th>\n",
       "      <td>111</td>\n",
       "      <td>2.368733</td>\n",
       "      <td>192.168.43.72</td>\n",
       "      <td>198.38.120.130</td>\n",
       "      <td>TCP</td>\n",
       "      <td>78</td>\n",
       "      <td>58453  &gt;  443 [SYN] Seq=0 Win=65535 Len=0 MSS=...</td>\n",
       "      <td>443.0</td>\n",
       "      <td>58453.0</td>\n",
       "    </tr>\n",
       "    <tr>\n",
       "      <th>112</th>\n",
       "      <td>113</td>\n",
       "      <td>2.368943</td>\n",
       "      <td>192.168.43.72</td>\n",
       "      <td>52.19.39.146</td>\n",
       "      <td>TCP</td>\n",
       "      <td>78</td>\n",
       "      <td>58454  &gt;  443 [SYN] Seq=0 Win=65535 Len=0 MSS=...</td>\n",
       "      <td>443.0</td>\n",
       "      <td>58454.0</td>\n",
       "    </tr>\n",
       "    <tr>\n",
       "      <th>113</th>\n",
       "      <td>114</td>\n",
       "      <td>2.369006</td>\n",
       "      <td>192.168.43.72</td>\n",
       "      <td>52.19.39.146</td>\n",
       "      <td>TCP</td>\n",
       "      <td>78</td>\n",
       "      <td>58455  &gt;  443 [SYN] Seq=0 Win=65535 Len=0 MSS=...</td>\n",
       "      <td>443.0</td>\n",
       "      <td>58455.0</td>\n",
       "    </tr>\n",
       "  </tbody>\n",
       "</table>\n",
       "</div>"
      ],
      "text/plain": [
       "     No.      Time         Source     Destination Protocol  Length  \\\n",
       "107  108  2.368591  192.168.43.72  198.38.120.130      TCP      78   \n",
       "109  110  2.368637  192.168.43.72  198.38.120.130      TCP      78   \n",
       "110  111  2.368733  192.168.43.72  198.38.120.130      TCP      78   \n",
       "112  113  2.368943  192.168.43.72    52.19.39.146      TCP      78   \n",
       "113  114  2.369006  192.168.43.72    52.19.39.146      TCP      78   \n",
       "\n",
       "                                                  Info   dest      src  \n",
       "107  58451  >  443 [SYN] Seq=0 Win=65535 Len=0 MSS=...  443.0  58451.0  \n",
       "109  58452  >  443 [SYN] Seq=0 Win=65535 Len=0 MSS=...  443.0  58452.0  \n",
       "110  58453  >  443 [SYN] Seq=0 Win=65535 Len=0 MSS=...  443.0  58453.0  \n",
       "112  58454  >  443 [SYN] Seq=0 Win=65535 Len=0 MSS=...  443.0  58454.0  \n",
       "113  58455  >  443 [SYN] Seq=0 Win=65535 Len=0 MSS=...  443.0  58455.0  "
      ]
     },
     "execution_count": 20,
     "metadata": {},
     "output_type": "execute_result"
    }
   ],
   "source": [
    "only_netflix.head(5)"
   ]
  },
  {
   "cell_type": "markdown",
   "metadata": {
    "colab_type": "text",
    "id": "0qFV6q2OCCsK"
   },
   "source": [
    "### Generate Statistics\n",
    "\n",
    "Generate statistics and features for the Netflix traffic flows. Use the `netml` library or any other technique that you choose to generate a set of features that you think would be good features for your model. "
   ]
  },
  {
   "cell_type": "markdown",
   "metadata": {},
   "source": [
    "### Length of packet\n",
    "\n",
    "I start by investigating the length of the packets."
   ]
  },
  {
   "cell_type": "code",
   "execution_count": 23,
   "metadata": {},
   "outputs": [
    {
     "data": {
      "text/plain": [
       "[<matplotlib.lines.Line2D at 0x13cdeb410>]"
      ]
     },
     "execution_count": 23,
     "metadata": {},
     "output_type": "execute_result"
    },
    {
     "data": {
      "image/png": "[encoded data removed]",
      "text/plain": [
       "<Figure size 640x480 with 1 Axes>"
      ]
     },
     "metadata": {},
     "output_type": "display_data"
    }
   ],
   "source": [
    "plt.plot(sorted(only_netflix['Length'].tolist()))"
   ]
  },
  {
   "cell_type": "markdown",
   "metadata": {},
   "source": [
    "The plot above shows that roughly 40% of the packets are far less than 200 bytes while roughtly 60% of packets are greater than 1400 bytes. There is a clear two clusters of packet sizes. Lets break this down in a more granular way:"
   ]
  },
  {
   "cell_type": "code",
   "execution_count": 24,
   "metadata": {},
   "outputs": [],
   "source": [
    "from_netflix = packets[packets[\"Source\"].isin(netflix_ips) & (packets[\"Destination\"] == OUR_IP)]\n",
    "from_us = packets[packets[\"Destination\"].isin(netflix_ips) & (packets[\"Source\"] == OUR_IP)]"
   ]
  },
  {
   "cell_type": "code",
   "execution_count": 25,
   "metadata": {},
   "outputs": [
    {
     "data": {
      "text/plain": [
       "(87265, 53207)"
      ]
     },
     "execution_count": 25,
     "metadata": {},
     "output_type": "execute_result"
    }
   ],
   "source": [
    "len(from_netflix), len(from_us)"
   ]
  },
  {
   "cell_type": "code",
   "execution_count": 26,
   "metadata": {},
   "outputs": [
    {
     "data": {
      "image/png": "[encoded data removed]",
      "text/plain": [
       "<Figure size 640x480 with 1 Axes>"
      ]
     },
     "metadata": {},
     "output_type": "display_data"
    }
   ],
   "source": [
    "# I used the claude chat below to learn how to set the log axis for matplotlib\n",
    "# I also used the chat below to learn how to add the dots to the plot to show\n",
    "# where the lines start and end.\n",
    "# https://claude.ai/share/30f8441a-91bb-4ee7-b819-9ffd1c4a5a77\n",
    "\n",
    "netflix_sorted = sorted(from_netflix['Length'].tolist())\n",
    "us_sorted = sorted(from_us['Length'].tolist())\n",
    "\n",
    "line1= plt.plot(netflix_sorted, label=\"From Netflix\")\n",
    "line2 = plt.plot(us_sorted, label=\"From us\")\n",
    "\n",
    "color1 = line1[0].get_color()\n",
    "color2 = line2[0].get_color()\n",
    "\n",
    "plt.scatter([0, len(netflix_sorted)-1], [netflix_sorted[0], netflix_sorted[-1]], \n",
    "            color=color1, s=50, zorder=5)\n",
    "plt.scatter([0, len(us_sorted)-1], [us_sorted[0], us_sorted[-1]], \n",
    "            color=color2, s=50, zorder=5)\n",
    "\n",
    "plt.legend()\n",
    "plt.yscale('log')"
   ]
  },
  {
   "cell_type": "markdown",
   "metadata": {},
   "source": [
    "The above shows that almost all of the data from netflix is roughtly 1500s bytes, while almost all the data from us is less than 100 bytes. This means that the size in bytes is heighly correlated with the source or destination IP but the IP doesn't contain all of the relevant information."
   ]
  },
  {
   "cell_type": "markdown",
   "metadata": {},
   "source": [
    "### Length of TCP/TLS packets investigation\n"
   ]
  },
  {
   "cell_type": "code",
   "execution_count": 28,
   "metadata": {},
   "outputs": [
    {
     "data": {
      "text/plain": [
       "(2972, 52605)"
      ]
     },
     "execution_count": 28,
     "metadata": {},
     "output_type": "execute_result"
    }
   ],
   "source": [
    "tcp_from_netflix  = from_netflix[from_netflix[\"Protocol\"]==\"TCP\"]\n",
    "tcp_from_us  = from_us[from_us[\"Protocol\"]==\"TCP\"]\n",
    "len(tcp_from_netflix), len(tcp_from_us)"
   ]
  },
  {
   "cell_type": "code",
   "execution_count": 30,
   "metadata": {},
   "outputs": [
    {
     "data": {
      "text/plain": [
       "(84290, 602)"
      ]
     },
     "execution_count": 30,
     "metadata": {},
     "output_type": "execute_result"
    }
   ],
   "source": [
    "TSL_labels = ['TLSv1','TLSv1.2']\n",
    "\n",
    "tls_from_netflix  = from_netflix[from_netflix[\"Protocol\"].isin(TSL_labels)]\n",
    "tls_from_us  = from_us[from_us[\"Protocol\"].isin(TSL_labels)]\n",
    "len(tls_from_netflix), len(tls_from_us)"
   ]
  },
  {
   "cell_type": "code",
   "execution_count": 32,
   "metadata": {},
   "outputs": [
    {
     "data": {
      "text/plain": [
       "(87265, 53207)"
      ]
     },
     "execution_count": 32,
     "metadata": {},
     "output_type": "execute_result"
    }
   ],
   "source": [
    "len(from_netflix), len(from_us)"
   ]
  },
  {
   "cell_type": "markdown",
   "metadata": {},
   "source": [
    "After inspecting the packets in the wireshark and from the simple code above, I have observed the following:\n",
    "\n",
    "__Observations about TLS packets__\n",
    "1. The vast majority of packets labeled TLS are from netflix.\n",
    "2. The vast majority of packets from netlflix are TLS.\n",
    "3. Almost all TLS packets from netflix have a length of 1514 bytes and contain a TCP payload of 1448 bytes (see below):\n",
    "\n",
    "<img src='fig1.png'></img>\n",
    "\n",
    "__Observations about TCP packets__\n",
    "\n",
    "1. The vast majority of packets labeled TCP are from us (that is, the computer streaming the video).\n",
    "2. The vast majority of the packets from us are TCP.\n",
    "3. The TCP packets are more variable in lenght, but tend to be much smaller than the TCP packets described above.\n",
    "\n"
   ]
  },
  {
   "cell_type": "code",
   "execution_count": 38,
   "metadata": {},
   "outputs": [
    {
     "data": {
      "image/png": "[encoded data removed]",
      "text/plain": [
       "<Figure size 640x480 with 1 Axes>"
      ]
     },
     "metadata": {},
     "output_type": "display_data"
    }
   ],
   "source": [
    "# I used the claude chat below to learn how to set the log axis for matplotlib\n",
    "# I also used the chat below to learn how to add the dots to the plot to show\n",
    "# where the lines start and end.\n",
    "# https://claude.ai/share/30f8441a-91bb-4ee7-b819-9ffd1c4a5a77\n",
    "\n",
    "netflix_tcp_sorted = sorted(tcp_from_netflix['Length'].tolist())\n",
    "netflix_tls_sorted = sorted(tls_from_netflix['Length'].tolist())\n",
    "us_tcp_sorted = sorted(tcp_from_us['Length'].tolist())\n",
    "us_tls_sorted = sorted(tls_from_us['Length'].tolist())\n",
    "\n",
    "line1= plt.plot(netflix_tcp_sorted, label=\"TCP From Netflix\", color=\"#eb4034\")\n",
    "line2 = plt.plot(netflix_tls_sorted, label=\"TLS From Netflix\", color=\"#c4746e\")\n",
    "line3= plt.plot(us_tcp_sorted, label=\"TCP From us\", color=\"#2766e3\")\n",
    "line4 = plt.plot(us_tls_sorted, label=\"TLS From us\", color=\"#6e8bc4\")\n",
    "\n",
    "color1 = line1[0].get_color()\n",
    "color2 = line2[0].get_color()\n",
    "color3 = line3[0].get_color()\n",
    "color4 = line4[0].get_color()\n",
    "\n",
    "sorted_lengths = [netflix_tcp_sorted, netflix_tls_sorted, us_tcp_sorted, us_tls_sorted]\n",
    "colors = [color1, color2, color3,color4]\n",
    "\n",
    "for data, color in zip(sorted_lengths, colors):\n",
    "    plt.scatter(\n",
    "        [0, len(data)-1],\n",
    "        [data[0], data[-1]], \n",
    "        color=color, s=50, \n",
    "        zorder=5\n",
    "    )\n",
    "\n",
    "plt.legend()\n",
    "plt.yscale('log')"
   ]
  },
  {
   "cell_type": "markdown",
   "metadata": {},
   "source": [
    "All of this shows us that the video data appears to be coming from netflix in increments of pakcets that are ~1500 bytes. The traffic from us is presumably smaller because all we are doing is setting up a connection with netflix and telling them what we want and confirming we got it (I don't konw much about networking but this is my best guess). This requires a lot less data then sending a whole movie from one server to a client. "
   ]
  },
  {
   "cell_type": "markdown",
   "metadata": {},
   "source": [
    "### Encrypted Video Packet Feature\n",
    "\n",
    "This is a boolean value for if the pakcet is TLS from netflix and contains the full amount of bytes (1514). These packets are almost certainly the ones that actually contain all of the video."
   ]
  },
  {
   "cell_type": "code",
   "execution_count": 46,
   "metadata": {},
   "outputs": [],
   "source": [
    "is_encypted_video = only_netflix['Protocol'].isin(TSL_labels) & (only_netflix[\"Length\"] == 1514)"
   ]
  },
  {
   "cell_type": "code",
   "execution_count": 47,
   "metadata": {},
   "outputs": [
    {
     "name": "stderr",
     "output_type": "stream",
     "text": [
      "/var/folders/tz/tjkc1y6s6z13lfjrq0gcrjnr0000gn/T/ipykernel_2866/2924783260.py:1: SettingWithCopyWarning: \n",
      "A value is trying to be set on a copy of a slice from a DataFrame.\n",
      "Try using .loc[row_indexer,col_indexer] = value instead\n",
      "\n",
      "See the caveats in the documentation: https://pandas.pydata.org/pandas-docs/stable/user_guide/indexing.html#returning-a-view-versus-a-copy\n",
      "  only_netflix['is_encypted_video'] = is_encypted_video\n"
     ]
    }
   ],
   "source": [
    "only_netflix['is_encypted_video'] = is_encypted_video"
   ]
  },
  {
   "cell_type": "code",
   "execution_count": 50,
   "metadata": {},
   "outputs": [
    {
     "data": {
      "text/html": [
       "<div>\n",
       "<style scoped>\n",
       "    .dataframe tbody tr th:only-of-type {\n",
       "        vertical-align: middle;\n",
       "    }\n",
       "\n",
       "    .dataframe tbody tr th {\n",
       "        vertical-align: top;\n",
       "    }\n",
       "\n",
       "    .dataframe thead th {\n",
       "        text-align: right;\n",
       "    }\n",
       "</style>\n",
       "<table border=\"1\" class=\"dataframe\">\n",
       "  <thead>\n",
       "    <tr style=\"text-align: right;\">\n",
       "      <th></th>\n",
       "      <th>No.</th>\n",
       "      <th>Time</th>\n",
       "      <th>Source</th>\n",
       "      <th>Destination</th>\n",
       "      <th>Protocol</th>\n",
       "      <th>Length</th>\n",
       "      <th>Info</th>\n",
       "      <th>dest</th>\n",
       "      <th>src</th>\n",
       "      <th>is_encypted_video</th>\n",
       "    </tr>\n",
       "  </thead>\n",
       "  <tbody>\n",
       "    <tr>\n",
       "      <th>328</th>\n",
       "      <td>329</td>\n",
       "      <td>4.180597</td>\n",
       "      <td>198.38.120.130</td>\n",
       "      <td>192.168.43.72</td>\n",
       "      <td>TLSv1.2</td>\n",
       "      <td>1514</td>\n",
       "      <td>Server Hello</td>\n",
       "      <td>58453.0</td>\n",
       "      <td>443.0</td>\n",
       "      <td>True</td>\n",
       "    </tr>\n",
       "    <tr>\n",
       "      <th>329</th>\n",
       "      <td>330</td>\n",
       "      <td>4.210863</td>\n",
       "      <td>198.38.120.130</td>\n",
       "      <td>192.168.43.72</td>\n",
       "      <td>TLSv1.2</td>\n",
       "      <td>1514</td>\n",
       "      <td>[Packet size limited during capture]</td>\n",
       "      <td>58453.0</td>\n",
       "      <td>443.0</td>\n",
       "      <td>True</td>\n",
       "    </tr>\n",
       "    <tr>\n",
       "      <th>335</th>\n",
       "      <td>336</td>\n",
       "      <td>4.259119</td>\n",
       "      <td>198.38.120.130</td>\n",
       "      <td>192.168.43.72</td>\n",
       "      <td>TLSv1.2</td>\n",
       "      <td>1514</td>\n",
       "      <td>Server Hello</td>\n",
       "      <td>58451.0</td>\n",
       "      <td>443.0</td>\n",
       "      <td>True</td>\n",
       "    </tr>\n",
       "    <tr>\n",
       "      <th>337</th>\n",
       "      <td>338</td>\n",
       "      <td>4.290590</td>\n",
       "      <td>198.38.120.130</td>\n",
       "      <td>192.168.43.72</td>\n",
       "      <td>TLSv1.2</td>\n",
       "      <td>1514</td>\n",
       "      <td>[Packet size limited during capture]</td>\n",
       "      <td>58451.0</td>\n",
       "      <td>443.0</td>\n",
       "      <td>True</td>\n",
       "    </tr>\n",
       "    <tr>\n",
       "      <th>343</th>\n",
       "      <td>344</td>\n",
       "      <td>4.340149</td>\n",
       "      <td>198.38.120.130</td>\n",
       "      <td>192.168.43.72</td>\n",
       "      <td>TLSv1.2</td>\n",
       "      <td>1514</td>\n",
       "      <td>Server Hello</td>\n",
       "      <td>58452.0</td>\n",
       "      <td>443.0</td>\n",
       "      <td>True</td>\n",
       "    </tr>\n",
       "    <tr>\n",
       "      <th>...</th>\n",
       "      <td>...</td>\n",
       "      <td>...</td>\n",
       "      <td>...</td>\n",
       "      <td>...</td>\n",
       "      <td>...</td>\n",
       "      <td>...</td>\n",
       "      <td>...</td>\n",
       "      <td>...</td>\n",
       "      <td>...</td>\n",
       "      <td>...</td>\n",
       "    </tr>\n",
       "    <tr>\n",
       "      <th>141185</th>\n",
       "      <td>141186</td>\n",
       "      <td>491.547358</td>\n",
       "      <td>192.168.43.72</td>\n",
       "      <td>52.208.128.101</td>\n",
       "      <td>TLSv1.2</td>\n",
       "      <td>1514</td>\n",
       "      <td>NaN</td>\n",
       "      <td>443.0</td>\n",
       "      <td>58518.0</td>\n",
       "      <td>True</td>\n",
       "    </tr>\n",
       "    <tr>\n",
       "      <th>141186</th>\n",
       "      <td>141187</td>\n",
       "      <td>491.547359</td>\n",
       "      <td>192.168.43.72</td>\n",
       "      <td>52.208.128.101</td>\n",
       "      <td>TLSv1.2</td>\n",
       "      <td>1514</td>\n",
       "      <td>[Packet size limited during capture]</td>\n",
       "      <td>443.0</td>\n",
       "      <td>58518.0</td>\n",
       "      <td>True</td>\n",
       "    </tr>\n",
       "    <tr>\n",
       "      <th>141204</th>\n",
       "      <td>141205</td>\n",
       "      <td>491.607712</td>\n",
       "      <td>198.38.120.164</td>\n",
       "      <td>192.168.43.72</td>\n",
       "      <td>TLSv1.2</td>\n",
       "      <td>1514</td>\n",
       "      <td>[Packet size limited during capture]</td>\n",
       "      <td>58520.0</td>\n",
       "      <td>443.0</td>\n",
       "      <td>True</td>\n",
       "    </tr>\n",
       "    <tr>\n",
       "      <th>141206</th>\n",
       "      <td>141207</td>\n",
       "      <td>491.609363</td>\n",
       "      <td>198.38.120.164</td>\n",
       "      <td>192.168.43.72</td>\n",
       "      <td>TLSv1.2</td>\n",
       "      <td>1514</td>\n",
       "      <td>[Packet size limited during capture]</td>\n",
       "      <td>58520.0</td>\n",
       "      <td>443.0</td>\n",
       "      <td>True</td>\n",
       "    </tr>\n",
       "    <tr>\n",
       "      <th>141208</th>\n",
       "      <td>141209</td>\n",
       "      <td>491.610419</td>\n",
       "      <td>198.38.120.164</td>\n",
       "      <td>192.168.43.72</td>\n",
       "      <td>TLSv1.2</td>\n",
       "      <td>1514</td>\n",
       "      <td>[Packet size limited during capture]</td>\n",
       "      <td>58520.0</td>\n",
       "      <td>443.0</td>\n",
       "      <td>True</td>\n",
       "    </tr>\n",
       "  </tbody>\n",
       "</table>\n",
       "<p>85786 rows × 10 columns</p>\n",
       "</div>"
      ],
      "text/plain": [
       "           No.        Time          Source     Destination Protocol  Length  \\\n",
       "328        329    4.180597  198.38.120.130   192.168.43.72  TLSv1.2    1514   \n",
       "329        330    4.210863  198.38.120.130   192.168.43.72  TLSv1.2    1514   \n",
       "335        336    4.259119  198.38.120.130   192.168.43.72  TLSv1.2    1514   \n",
       "337        338    4.290590  198.38.120.130   192.168.43.72  TLSv1.2    1514   \n",
       "343        344    4.340149  198.38.120.130   192.168.43.72  TLSv1.2    1514   \n",
       "...        ...         ...             ...             ...      ...     ...   \n",
       "141185  141186  491.547358   192.168.43.72  52.208.128.101  TLSv1.2    1514   \n",
       "141186  141187  491.547359   192.168.43.72  52.208.128.101  TLSv1.2    1514   \n",
       "141204  141205  491.607712  198.38.120.164   192.168.43.72  TLSv1.2    1514   \n",
       "141206  141207  491.609363  198.38.120.164   192.168.43.72  TLSv1.2    1514   \n",
       "141208  141209  491.610419  198.38.120.164   192.168.43.72  TLSv1.2    1514   \n",
       "\n",
       "                                        Info     dest      src  \\\n",
       "328                             Server Hello  58453.0    443.0   \n",
       "329     [Packet size limited during capture]  58453.0    443.0   \n",
       "335                             Server Hello  58451.0    443.0   \n",
       "337     [Packet size limited during capture]  58451.0    443.0   \n",
       "343                             Server Hello  58452.0    443.0   \n",
       "...                                      ...      ...      ...   \n",
       "141185                                   NaN    443.0  58518.0   \n",
       "141186  [Packet size limited during capture]    443.0  58518.0   \n",
       "141204  [Packet size limited during capture]  58520.0    443.0   \n",
       "141206  [Packet size limited during capture]  58520.0    443.0   \n",
       "141208  [Packet size limited during capture]  58520.0    443.0   \n",
       "\n",
       "        is_encypted_video  \n",
       "328                  True  \n",
       "329                  True  \n",
       "335                  True  \n",
       "337                  True  \n",
       "343                  True  \n",
       "...                   ...  \n",
       "141185               True  \n",
       "141186               True  \n",
       "141204               True  \n",
       "141206               True  \n",
       "141208               True  \n",
       "\n",
       "[85786 rows x 10 columns]"
      ]
     },
     "execution_count": 50,
     "metadata": {},
     "output_type": "execute_result"
    }
   ],
   "source": [
    "only_netflix[only_netflix[\"Length\"] == 1514]"
   ]
  },
  {
   "cell_type": "markdown",
   "metadata": {},
   "source": [
    "### Splitting data into flows"
   ]
  },
  {
   "cell_type": "code",
   "execution_count": 51,
   "metadata": {},
   "outputs": [
    {
     "data": {
      "text/html": [
       "<div>\n",
       "<style scoped>\n",
       "    .dataframe tbody tr th:only-of-type {\n",
       "        vertical-align: middle;\n",
       "    }\n",
       "\n",
       "    .dataframe tbody tr th {\n",
       "        vertical-align: top;\n",
       "    }\n",
       "\n",
       "    .dataframe thead th {\n",
       "        text-align: right;\n",
       "    }\n",
       "</style>\n",
       "<table border=\"1\" class=\"dataframe\">\n",
       "  <thead>\n",
       "    <tr style=\"text-align: right;\">\n",
       "      <th></th>\n",
       "      <th>No.</th>\n",
       "      <th>Time</th>\n",
       "      <th>Source</th>\n",
       "      <th>Destination</th>\n",
       "      <th>Protocol</th>\n",
       "      <th>Length</th>\n",
       "      <th>Info</th>\n",
       "      <th>dest</th>\n",
       "      <th>src</th>\n",
       "      <th>is_encypted_video</th>\n",
       "    </tr>\n",
       "  </thead>\n",
       "  <tbody>\n",
       "    <tr>\n",
       "      <th>107</th>\n",
       "      <td>108</td>\n",
       "      <td>2.368591</td>\n",
       "      <td>192.168.43.72</td>\n",
       "      <td>198.38.120.130</td>\n",
       "      <td>TCP</td>\n",
       "      <td>78</td>\n",
       "      <td>58451  &gt;  443 [SYN] Seq=0 Win=65535 Len=0 MSS=...</td>\n",
       "      <td>443.0</td>\n",
       "      <td>58451.0</td>\n",
       "      <td>False</td>\n",
       "    </tr>\n",
       "    <tr>\n",
       "      <th>109</th>\n",
       "      <td>110</td>\n",
       "      <td>2.368637</td>\n",
       "      <td>192.168.43.72</td>\n",
       "      <td>198.38.120.130</td>\n",
       "      <td>TCP</td>\n",
       "      <td>78</td>\n",
       "      <td>58452  &gt;  443 [SYN] Seq=0 Win=65535 Len=0 MSS=...</td>\n",
       "      <td>443.0</td>\n",
       "      <td>58452.0</td>\n",
       "      <td>False</td>\n",
       "    </tr>\n",
       "    <tr>\n",
       "      <th>110</th>\n",
       "      <td>111</td>\n",
       "      <td>2.368733</td>\n",
       "      <td>192.168.43.72</td>\n",
       "      <td>198.38.120.130</td>\n",
       "      <td>TCP</td>\n",
       "      <td>78</td>\n",
       "      <td>58453  &gt;  443 [SYN] Seq=0 Win=65535 Len=0 MSS=...</td>\n",
       "      <td>443.0</td>\n",
       "      <td>58453.0</td>\n",
       "      <td>False</td>\n",
       "    </tr>\n",
       "  </tbody>\n",
       "</table>\n",
       "</div>"
      ],
      "text/plain": [
       "     No.      Time         Source     Destination Protocol  Length  \\\n",
       "107  108  2.368591  192.168.43.72  198.38.120.130      TCP      78   \n",
       "109  110  2.368637  192.168.43.72  198.38.120.130      TCP      78   \n",
       "110  111  2.368733  192.168.43.72  198.38.120.130      TCP      78   \n",
       "\n",
       "                                                  Info   dest      src  \\\n",
       "107  58451  >  443 [SYN] Seq=0 Win=65535 Len=0 MSS=...  443.0  58451.0   \n",
       "109  58452  >  443 [SYN] Seq=0 Win=65535 Len=0 MSS=...  443.0  58452.0   \n",
       "110  58453  >  443 [SYN] Seq=0 Win=65535 Len=0 MSS=...  443.0  58453.0   \n",
       "\n",
       "     is_encypted_video  \n",
       "107              False  \n",
       "109              False  \n",
       "110              False  "
      ]
     },
     "execution_count": 51,
     "metadata": {},
     "output_type": "execute_result"
    }
   ],
   "source": [
    "only_netflix.head(3)"
   ]
  },
  {
   "cell_type": "code",
   "execution_count": 54,
   "metadata": {},
   "outputs": [],
   "source": [
    "# we separate the dataframe into TCP packets for each ip from netflix\n",
    "# our computer is in communication with\n",
    "netflix_ip_to_packet_dataframe = dict()\n",
    "\n",
    "for ip in netflix_ips:\n",
    "    flow_df = packets[(packets[\"Source\"] == ip) | (packets[\"Destination\"] == ip)] \n",
    "    netflix_ip_to_packet_dataframe[ip] = flow_df\n"
   ]
  },
  {
   "cell_type": "code",
   "execution_count": 57,
   "metadata": {},
   "outputs": [
    {
     "name": "stdout",
     "output_type": "stream",
     "text": [
      "34.252.77.54 --> 46\n",
      "52.208.128.101 --> 191\n",
      "52.210.19.176 --> 126\n",
      "198.38.120.137 --> 190\n",
      "198.38.120.153 --> 138\n",
      "198.38.120.167 --> 119\n",
      "52.210.133.255 --> 0\n",
      "23.57.80.120 --> 1839\n",
      "198.38.120.162 --> 604\n",
      "198.38.120.134 --> 121\n",
      "198.38.120.166 --> 127986\n",
      "198.38.120.164 --> 8043\n",
      "198.38.120.130 --> 73\n",
      "52.19.39.146 --> 961\n",
      "52.48.8.150 --> 0\n",
      "52.48.148.78 --> 35\n"
     ]
    }
   ],
   "source": [
    "for ip_name, dataframe in netflix_ip_to_packet_dataframe.items():\n",
    "    print(f\"{ip_name} --> {len(dataframe)}\")"
   ]
  },
  {
   "cell_type": "markdown",
   "metadata": {},
   "source": [
    "This tells us that the vast majority of netflix data goes through a single flow. Now lets assign a number to each flow and label them in the dataframe."
   ]
  },
  {
   "cell_type": "code",
   "execution_count": 59,
   "metadata": {},
   "outputs": [],
   "source": [
    "netflix_ip_to_flow = {ip: i for i, ip in enumerate(netflix_ips)}\n",
    "flow_feature = []\n",
    "\n",
    "for index, row in only_netflix.iterrows():\n",
    "    source, dest = row[\"Source\"], row[\"Destination\"]\n",
    "\n",
    "    feature_val = -1\n",
    "    for ip in netflix_ips:\n",
    "        if ip == source or ip == dest:\n",
    "            feature_val = netflix_ip_to_flow[ip]\n",
    "            break\n",
    "\n",
    "    flow_feature.append(feature_val)\n",
    "        "
   ]
  },
  {
   "cell_type": "code",
   "execution_count": 60,
   "metadata": {},
   "outputs": [
    {
     "name": "stderr",
     "output_type": "stream",
     "text": [
      "/var/folders/tz/tjkc1y6s6z13lfjrq0gcrjnr0000gn/T/ipykernel_2866/2171941691.py:1: SettingWithCopyWarning: \n",
      "A value is trying to be set on a copy of a slice from a DataFrame.\n",
      "Try using .loc[row_indexer,col_indexer] = value instead\n",
      "\n",
      "See the caveats in the documentation: https://pandas.pydata.org/pandas-docs/stable/user_guide/indexing.html#returning-a-view-versus-a-copy\n",
      "  only_netflix[\"flow_num\"] = flow_feature\n"
     ]
    }
   ],
   "source": [
    "only_netflix[\"flow_num\"] = flow_feature"
   ]
  },
  {
   "cell_type": "code",
   "execution_count": 62,
   "metadata": {},
   "outputs": [
    {
     "data": {
      "text/html": [
       "<div>\n",
       "<style scoped>\n",
       "    .dataframe tbody tr th:only-of-type {\n",
       "        vertical-align: middle;\n",
       "    }\n",
       "\n",
       "    .dataframe tbody tr th {\n",
       "        vertical-align: top;\n",
       "    }\n",
       "\n",
       "    .dataframe thead th {\n",
       "        text-align: right;\n",
       "    }\n",
       "</style>\n",
       "<table border=\"1\" class=\"dataframe\">\n",
       "  <thead>\n",
       "    <tr style=\"text-align: right;\">\n",
       "      <th></th>\n",
       "      <th>No.</th>\n",
       "      <th>Time</th>\n",
       "      <th>Source</th>\n",
       "      <th>Destination</th>\n",
       "      <th>Protocol</th>\n",
       "      <th>Length</th>\n",
       "      <th>Info</th>\n",
       "      <th>dest</th>\n",
       "      <th>src</th>\n",
       "      <th>is_encypted_video</th>\n",
       "      <th>flow_num</th>\n",
       "    </tr>\n",
       "  </thead>\n",
       "  <tbody>\n",
       "    <tr>\n",
       "      <th>107</th>\n",
       "      <td>108</td>\n",
       "      <td>2.368591</td>\n",
       "      <td>192.168.43.72</td>\n",
       "      <td>198.38.120.130</td>\n",
       "      <td>TCP</td>\n",
       "      <td>78</td>\n",
       "      <td>58451  &gt;  443 [SYN] Seq=0 Win=65535 Len=0 MSS=...</td>\n",
       "      <td>443.0</td>\n",
       "      <td>58451.0</td>\n",
       "      <td>False</td>\n",
       "      <td>12</td>\n",
       "    </tr>\n",
       "    <tr>\n",
       "      <th>109</th>\n",
       "      <td>110</td>\n",
       "      <td>2.368637</td>\n",
       "      <td>192.168.43.72</td>\n",
       "      <td>198.38.120.130</td>\n",
       "      <td>TCP</td>\n",
       "      <td>78</td>\n",
       "      <td>58452  &gt;  443 [SYN] Seq=0 Win=65535 Len=0 MSS=...</td>\n",
       "      <td>443.0</td>\n",
       "      <td>58452.0</td>\n",
       "      <td>False</td>\n",
       "      <td>12</td>\n",
       "    </tr>\n",
       "    <tr>\n",
       "      <th>110</th>\n",
       "      <td>111</td>\n",
       "      <td>2.368733</td>\n",
       "      <td>192.168.43.72</td>\n",
       "      <td>198.38.120.130</td>\n",
       "      <td>TCP</td>\n",
       "      <td>78</td>\n",
       "      <td>58453  &gt;  443 [SYN] Seq=0 Win=65535 Len=0 MSS=...</td>\n",
       "      <td>443.0</td>\n",
       "      <td>58453.0</td>\n",
       "      <td>False</td>\n",
       "      <td>12</td>\n",
       "    </tr>\n",
       "    <tr>\n",
       "      <th>112</th>\n",
       "      <td>113</td>\n",
       "      <td>2.368943</td>\n",
       "      <td>192.168.43.72</td>\n",
       "      <td>52.19.39.146</td>\n",
       "      <td>TCP</td>\n",
       "      <td>78</td>\n",
       "      <td>58454  &gt;  443 [SYN] Seq=0 Win=65535 Len=0 MSS=...</td>\n",
       "      <td>443.0</td>\n",
       "      <td>58454.0</td>\n",
       "      <td>False</td>\n",
       "      <td>13</td>\n",
       "    </tr>\n",
       "    <tr>\n",
       "      <th>113</th>\n",
       "      <td>114</td>\n",
       "      <td>2.369006</td>\n",
       "      <td>192.168.43.72</td>\n",
       "      <td>52.19.39.146</td>\n",
       "      <td>TCP</td>\n",
       "      <td>78</td>\n",
       "      <td>58455  &gt;  443 [SYN] Seq=0 Win=65535 Len=0 MSS=...</td>\n",
       "      <td>443.0</td>\n",
       "      <td>58455.0</td>\n",
       "      <td>False</td>\n",
       "      <td>13</td>\n",
       "    </tr>\n",
       "  </tbody>\n",
       "</table>\n",
       "</div>"
      ],
      "text/plain": [
       "     No.      Time         Source     Destination Protocol  Length  \\\n",
       "107  108  2.368591  192.168.43.72  198.38.120.130      TCP      78   \n",
       "109  110  2.368637  192.168.43.72  198.38.120.130      TCP      78   \n",
       "110  111  2.368733  192.168.43.72  198.38.120.130      TCP      78   \n",
       "112  113  2.368943  192.168.43.72    52.19.39.146      TCP      78   \n",
       "113  114  2.369006  192.168.43.72    52.19.39.146      TCP      78   \n",
       "\n",
       "                                                  Info   dest      src  \\\n",
       "107  58451  >  443 [SYN] Seq=0 Win=65535 Len=0 MSS=...  443.0  58451.0   \n",
       "109  58452  >  443 [SYN] Seq=0 Win=65535 Len=0 MSS=...  443.0  58452.0   \n",
       "110  58453  >  443 [SYN] Seq=0 Win=65535 Len=0 MSS=...  443.0  58453.0   \n",
       "112  58454  >  443 [SYN] Seq=0 Win=65535 Len=0 MSS=...  443.0  58454.0   \n",
       "113  58455  >  443 [SYN] Seq=0 Win=65535 Len=0 MSS=...  443.0  58455.0   \n",
       "\n",
       "     is_encypted_video  flow_num  \n",
       "107              False        12  \n",
       "109              False        12  \n",
       "110              False        12  \n",
       "112              False        13  \n",
       "113              False        13  "
      ]
     },
     "execution_count": 62,
     "metadata": {},
     "output_type": "execute_result"
    }
   ],
   "source": [
    "only_netflix.head(5)"
   ]
  },
  {
   "cell_type": "markdown",
   "metadata": {},
   "source": [
    "### Packet number in flow\n",
    "\n",
    "If we would like to feed a packet into some kind of neural network, we may be interested in how far it is into a flow. If we would like to make some kind of positional encoding later, this kind of information would also be useful."
   ]
  },
  {
   "cell_type": "code",
   "execution_count": 77,
   "metadata": {},
   "outputs": [],
   "source": [
    "flow_idx = {netflix_ip_to_flow[ip]: 0 for ip in netflix_ips}\n",
    "flow_idx_feature_list = []\n",
    "\n",
    "for index, row in only_netflix.iterrows():\n",
    "    source, dest = row[\"Source\"], row[\"Destination\"]\n",
    "\n",
    "    feature_val = -1\n",
    "    for ip in netflix_ips:\n",
    "        if ip == source or ip == dest:\n",
    "            feature_val = netflix_ip_to_flow[ip]\n",
    "            break\n",
    "\n",
    "    flow_idx_feature_list.append(flow_idx[feature_val])\n",
    "    flow_idx[feature_val] += 1\n"
   ]
  },
  {
   "cell_type": "code",
   "execution_count": 78,
   "metadata": {},
   "outputs": [
    {
     "name": "stderr",
     "output_type": "stream",
     "text": [
      "/var/folders/tz/tjkc1y6s6z13lfjrq0gcrjnr0000gn/T/ipykernel_2866/1608043422.py:1: SettingWithCopyWarning: \n",
      "A value is trying to be set on a copy of a slice from a DataFrame.\n",
      "Try using .loc[row_indexer,col_indexer] = value instead\n",
      "\n",
      "See the caveats in the documentation: https://pandas.pydata.org/pandas-docs/stable/user_guide/indexing.html#returning-a-view-versus-a-copy\n",
      "  only_netflix[\"flow_index\"] = flow_idx_feature_list\n"
     ]
    }
   ],
   "source": [
    "only_netflix[\"flow_index\"] = flow_idx_feature_list"
   ]
  },
  {
   "cell_type": "code",
   "execution_count": 80,
   "metadata": {},
   "outputs": [
    {
     "data": {
      "text/html": [
       "<div>\n",
       "<style scoped>\n",
       "    .dataframe tbody tr th:only-of-type {\n",
       "        vertical-align: middle;\n",
       "    }\n",
       "\n",
       "    .dataframe tbody tr th {\n",
       "        vertical-align: top;\n",
       "    }\n",
       "\n",
       "    .dataframe thead th {\n",
       "        text-align: right;\n",
       "    }\n",
       "</style>\n",
       "<table border=\"1\" class=\"dataframe\">\n",
       "  <thead>\n",
       "    <tr style=\"text-align: right;\">\n",
       "      <th></th>\n",
       "      <th>No.</th>\n",
       "      <th>Time</th>\n",
       "      <th>Source</th>\n",
       "      <th>Destination</th>\n",
       "      <th>Protocol</th>\n",
       "      <th>Length</th>\n",
       "      <th>Info</th>\n",
       "      <th>dest</th>\n",
       "      <th>src</th>\n",
       "      <th>is_encypted_video</th>\n",
       "      <th>flow_num</th>\n",
       "      <th>flow_index</th>\n",
       "    </tr>\n",
       "  </thead>\n",
       "  <tbody>\n",
       "    <tr>\n",
       "      <th>107</th>\n",
       "      <td>108</td>\n",
       "      <td>2.368591</td>\n",
       "      <td>192.168.43.72</td>\n",
       "      <td>198.38.120.130</td>\n",
       "      <td>TCP</td>\n",
       "      <td>78</td>\n",
       "      <td>58451  &gt;  443 [SYN] Seq=0 Win=65535 Len=0 MSS=...</td>\n",
       "      <td>443.0</td>\n",
       "      <td>58451.0</td>\n",
       "      <td>False</td>\n",
       "      <td>12</td>\n",
       "      <td>0</td>\n",
       "    </tr>\n",
       "    <tr>\n",
       "      <th>109</th>\n",
       "      <td>110</td>\n",
       "      <td>2.368637</td>\n",
       "      <td>192.168.43.72</td>\n",
       "      <td>198.38.120.130</td>\n",
       "      <td>TCP</td>\n",
       "      <td>78</td>\n",
       "      <td>58452  &gt;  443 [SYN] Seq=0 Win=65535 Len=0 MSS=...</td>\n",
       "      <td>443.0</td>\n",
       "      <td>58452.0</td>\n",
       "      <td>False</td>\n",
       "      <td>12</td>\n",
       "      <td>1</td>\n",
       "    </tr>\n",
       "    <tr>\n",
       "      <th>110</th>\n",
       "      <td>111</td>\n",
       "      <td>2.368733</td>\n",
       "      <td>192.168.43.72</td>\n",
       "      <td>198.38.120.130</td>\n",
       "      <td>TCP</td>\n",
       "      <td>78</td>\n",
       "      <td>58453  &gt;  443 [SYN] Seq=0 Win=65535 Len=0 MSS=...</td>\n",
       "      <td>443.0</td>\n",
       "      <td>58453.0</td>\n",
       "      <td>False</td>\n",
       "      <td>12</td>\n",
       "      <td>2</td>\n",
       "    </tr>\n",
       "    <tr>\n",
       "      <th>112</th>\n",
       "      <td>113</td>\n",
       "      <td>2.368943</td>\n",
       "      <td>192.168.43.72</td>\n",
       "      <td>52.19.39.146</td>\n",
       "      <td>TCP</td>\n",
       "      <td>78</td>\n",
       "      <td>58454  &gt;  443 [SYN] Seq=0 Win=65535 Len=0 MSS=...</td>\n",
       "      <td>443.0</td>\n",
       "      <td>58454.0</td>\n",
       "      <td>False</td>\n",
       "      <td>13</td>\n",
       "      <td>0</td>\n",
       "    </tr>\n",
       "    <tr>\n",
       "      <th>113</th>\n",
       "      <td>114</td>\n",
       "      <td>2.369006</td>\n",
       "      <td>192.168.43.72</td>\n",
       "      <td>52.19.39.146</td>\n",
       "      <td>TCP</td>\n",
       "      <td>78</td>\n",
       "      <td>58455  &gt;  443 [SYN] Seq=0 Win=65535 Len=0 MSS=...</td>\n",
       "      <td>443.0</td>\n",
       "      <td>58455.0</td>\n",
       "      <td>False</td>\n",
       "      <td>13</td>\n",
       "      <td>1</td>\n",
       "    </tr>\n",
       "    <tr>\n",
       "      <th>114</th>\n",
       "      <td>115</td>\n",
       "      <td>2.369087</td>\n",
       "      <td>192.168.43.72</td>\n",
       "      <td>52.19.39.146</td>\n",
       "      <td>TCP</td>\n",
       "      <td>78</td>\n",
       "      <td>58456  &gt;  443 [SYN] Seq=0 Win=65535 Len=0 MSS=...</td>\n",
       "      <td>443.0</td>\n",
       "      <td>58456.0</td>\n",
       "      <td>False</td>\n",
       "      <td>13</td>\n",
       "      <td>2</td>\n",
       "    </tr>\n",
       "  </tbody>\n",
       "</table>\n",
       "</div>"
      ],
      "text/plain": [
       "     No.      Time         Source     Destination Protocol  Length  \\\n",
       "107  108  2.368591  192.168.43.72  198.38.120.130      TCP      78   \n",
       "109  110  2.368637  192.168.43.72  198.38.120.130      TCP      78   \n",
       "110  111  2.368733  192.168.43.72  198.38.120.130      TCP      78   \n",
       "112  113  2.368943  192.168.43.72    52.19.39.146      TCP      78   \n",
       "113  114  2.369006  192.168.43.72    52.19.39.146      TCP      78   \n",
       "114  115  2.369087  192.168.43.72    52.19.39.146      TCP      78   \n",
       "\n",
       "                                                  Info   dest      src  \\\n",
       "107  58451  >  443 [SYN] Seq=0 Win=65535 Len=0 MSS=...  443.0  58451.0   \n",
       "109  58452  >  443 [SYN] Seq=0 Win=65535 Len=0 MSS=...  443.0  58452.0   \n",
       "110  58453  >  443 [SYN] Seq=0 Win=65535 Len=0 MSS=...  443.0  58453.0   \n",
       "112  58454  >  443 [SYN] Seq=0 Win=65535 Len=0 MSS=...  443.0  58454.0   \n",
       "113  58455  >  443 [SYN] Seq=0 Win=65535 Len=0 MSS=...  443.0  58455.0   \n",
       "114  58456  >  443 [SYN] Seq=0 Win=65535 Len=0 MSS=...  443.0  58456.0   \n",
       "\n",
       "     is_encypted_video  flow_num  flow_index  \n",
       "107              False        12           0  \n",
       "109              False        12           1  \n",
       "110              False        12           2  \n",
       "112              False        13           0  \n",
       "113              False        13           1  \n",
       "114              False        13           2  "
      ]
     },
     "execution_count": 80,
     "metadata": {},
     "output_type": "execute_result"
    }
   ],
   "source": [
    "only_netflix.head(6)"
   ]
  },
  {
   "cell_type": "markdown",
   "metadata": {
    "colab_type": "text",
    "id": "0qFV6q2OCCsK"
   },
   "source": [
    "**Write a brief justification for the features that you have chosen.**"
   ]
  },
  {
   "cell_type": "code",
   "execution_count": 106,
   "metadata": {},
   "outputs": [
    {
     "data": {
      "text/plain": [
       "{'ARP',\n",
       " 'BOOTP',\n",
       " 'DNS',\n",
       " 'EAPOL',\n",
       " 'HTTP',\n",
       " 'ICMP',\n",
       " 'ICMPv6',\n",
       " 'IGMPv2',\n",
       " 'MDNS',\n",
       " 'NBNS',\n",
       " 'SSLv2',\n",
       " 'TCP',\n",
       " 'TLSv1',\n",
       " 'TLSv1.2'}"
      ]
     },
     "execution_count": 106,
     "metadata": {},
     "output_type": "execute_result"
    }
   ],
   "source": [
    "set(packets[\"Protocol\"])"
   ]
  },
  {
   "cell_type": "markdown",
   "metadata": {
    "colab_type": "text",
    "id": "lBCP_2SBC2xj"
   },
   "source": [
    "### Inferring Segment downloads\n",
    "\n",
    "In addition to the features that you could generate using the `netml` library or similar, add to your feature vector a \"segment downloads rate\" feature, which indicates the number of video segments downloaded for a given time window.\n",
    "\n",
    "Note: If you are using the `netml` library, generating features with `SAMP` style options may be useful, as this option gives you time windows, and you can then simply add the segment download rate to that existing dataframe."
   ]
  },
  {
   "cell_type": "code",
   "execution_count": 155,
   "metadata": {},
   "outputs": [],
   "source": [
    "# I used the following two sources to understand what a segment is\n",
    "# https://www.geeksforgeeks.org/computer-networks/difference-between-segments-packets-and-frames/\n",
    "# https://claude.ai/share/7f1756d2-77fa-452d-84fa-c8cb7a942d8a"
   ]
  },
  {
   "cell_type": "markdown",
   "metadata": {},
   "source": [
    "## Part 2: Video Quality Inference\n",
    "\n",
    "You will now load the complete video dataset from a previous study to train and test models based on these features to automatically infer the quality of a streaming video flow.\n",
    "\n",
    "For this part of the assignment, you will need two pickle files, which we provide for you by running the code below:\n",
    "\n",
    "```\n",
    "\n",
    "!gdown 'https://drive.google.com/uc?id=1N-Cf4dJ3fpak_AWgO05Fopq_XPYLVqdS' -O netflix_session.pkl\n",
    "!gdown 'https://drive.google.com/uc?id=1PHvEID7My6VZXZveCpQYy3lMo9RvMNTI' -O video_dataset.pkl\n",
    "\n",
    "```"
   ]
  },
  {
   "cell_type": "markdown",
   "metadata": {},
   "source": [
    "### Load the File\n",
    "\n",
    "Load the video dataset pickle file."
   ]
  },
  {
   "cell_type": "code",
   "execution_count": 82,
   "metadata": {},
   "outputs": [
    {
     "name": "stderr",
     "output_type": "stream",
     "text": [
      "/var/folders/tz/tjkc1y6s6z13lfjrq0gcrjnr0000gn/T/ipykernel_2866/275386978.py:7: DeprecationWarning: numpy.core.numeric is deprecated and has been renamed to numpy._core.numeric. The numpy._core namespace contains private NumPy internals and its use is discouraged, as NumPy internals can change without warning in any release. In practice, most real-world usage of numpy.core is to access functionality in the public NumPy API. If that is the case, use the public NumPy API. If not, you are using NumPy internals. If you would still like to access an internal attribute, use numpy._core.numeric._frombuffer.\n",
      "  video_packets = pickle.load(f)\n"
     ]
    }
   ],
   "source": [
    "# I used the below link to refresh my memory for the correct syntax of opening a file with pickle\n",
    "# https://stackoverflow.com/questions/35067957/how-to-read-pickle-file\n",
    "\n",
    "import pickle\n",
    "\n",
    "with open(\"netflix_dataset.pkl\", \"rb\") as f:\n",
    "    video_packets = pickle.load(f)"
   ]
  },
  {
   "cell_type": "markdown",
   "metadata": {},
   "source": [
    "### Clean the File\n",
    "\n",
    "1. The dataset contains video resolutions that are not valid. Remove entries in the dataset that do not contain a valid video resolution. Valid resolutions are 240, 360, 480, 720, 1080."
   ]
  },
  {
   "cell_type": "code",
   "execution_count": 88,
   "metadata": {},
   "outputs": [],
   "source": [
    "VALID_RESOLUTIONS = [240.0, 360.0, 480.0, 7280.0, 1080.0]"
   ]
  },
  {
   "cell_type": "code",
   "execution_count": 91,
   "metadata": {},
   "outputs": [],
   "source": [
    "video_packets = video_packets[video_packets['resolution'].isin(VALID_RESOLUTIONS)]"
   ]
  },
  {
   "cell_type": "code",
   "execution_count": 92,
   "metadata": {},
   "outputs": [
    {
     "data": {
      "text/html": [
       "<div>\n",
       "<style scoped>\n",
       "    .dataframe tbody tr th:only-of-type {\n",
       "        vertical-align: middle;\n",
       "    }\n",
       "\n",
       "    .dataframe tbody tr th {\n",
       "        vertical-align: top;\n",
       "    }\n",
       "\n",
       "    .dataframe thead th {\n",
       "        text-align: right;\n",
       "    }\n",
       "</style>\n",
       "<table border=\"1\" class=\"dataframe\">\n",
       "  <thead>\n",
       "    <tr style=\"text-align: right;\">\n",
       "      <th></th>\n",
       "      <th>10_EWMA_chunksizes</th>\n",
       "      <th>10_avg_chunksize</th>\n",
       "      <th>10_chunksizes_50</th>\n",
       "      <th>10_chunksizes_50R</th>\n",
       "      <th>10_chunksizes_75</th>\n",
       "      <th>10_chunksizes_75R</th>\n",
       "      <th>10_chunksizes_85</th>\n",
       "      <th>10_chunksizes_85R</th>\n",
       "      <th>10_chunksizes_90</th>\n",
       "      <th>10_chunksizes_90R</th>\n",
       "      <th>...</th>\n",
       "      <th>userTwoRetransmit</th>\n",
       "      <th>userUrgFlags</th>\n",
       "      <th>userXRetransmit</th>\n",
       "      <th>userZeroRetransmit</th>\n",
       "      <th>service</th>\n",
       "      <th>startup3.3</th>\n",
       "      <th>startup6.6</th>\n",
       "      <th>startup5</th>\n",
       "      <th>startup10</th>\n",
       "      <th>startup_mc</th>\n",
       "    </tr>\n",
       "  </thead>\n",
       "  <tbody>\n",
       "    <tr>\n",
       "      <th>208</th>\n",
       "      <td>[[4380.0], [4380.0], [19682.095238095237], [23...</td>\n",
       "      <td>148947.1</td>\n",
       "      <td>43473.0</td>\n",
       "      <td>43473.0</td>\n",
       "      <td>185098.0</td>\n",
       "      <td>185098.0</td>\n",
       "      <td>361832.3</td>\n",
       "      <td>361832.3</td>\n",
       "      <td>461040.2</td>\n",
       "      <td>461040.2</td>\n",
       "      <td>...</td>\n",
       "      <td>0.0</td>\n",
       "      <td>0</td>\n",
       "      <td>0.108730</td>\n",
       "      <td>0.557937</td>\n",
       "      <td>netflix</td>\n",
       "      <td>False</td>\n",
       "      <td>False</td>\n",
       "      <td>False</td>\n",
       "      <td>False</td>\n",
       "      <td>12.0</td>\n",
       "    </tr>\n",
       "    <tr>\n",
       "      <th>209</th>\n",
       "      <td>[[179260.0], [130204.0], [49666.09523809524], ...</td>\n",
       "      <td>91984.2</td>\n",
       "      <td>101882.0</td>\n",
       "      <td>101882.0</td>\n",
       "      <td>122323.0</td>\n",
       "      <td>122323.0</td>\n",
       "      <td>159843.4</td>\n",
       "      <td>159843.4</td>\n",
       "      <td>181011.8</td>\n",
       "      <td>181011.8</td>\n",
       "      <td>...</td>\n",
       "      <td>0.0</td>\n",
       "      <td>0</td>\n",
       "      <td>0.116865</td>\n",
       "      <td>0.549802</td>\n",
       "      <td>netflix</td>\n",
       "      <td>False</td>\n",
       "      <td>False</td>\n",
       "      <td>False</td>\n",
       "      <td>False</td>\n",
       "      <td>12.0</td>\n",
       "    </tr>\n",
       "    <tr>\n",
       "      <th>210</th>\n",
       "      <td>[[317962.0], [83192.4], [170850.7619047619], [...</td>\n",
       "      <td>147725.0</td>\n",
       "      <td>111373.0</td>\n",
       "      <td>111373.0</td>\n",
       "      <td>224157.0</td>\n",
       "      <td>224157.0</td>\n",
       "      <td>286280.0</td>\n",
       "      <td>286280.0</td>\n",
       "      <td>325845.8</td>\n",
       "      <td>325845.8</td>\n",
       "      <td>...</td>\n",
       "      <td>0.0</td>\n",
       "      <td>0</td>\n",
       "      <td>0.126852</td>\n",
       "      <td>0.539815</td>\n",
       "      <td>netflix</td>\n",
       "      <td>False</td>\n",
       "      <td>False</td>\n",
       "      <td>False</td>\n",
       "      <td>False</td>\n",
       "      <td>12.0</td>\n",
       "    </tr>\n",
       "    <tr>\n",
       "      <th>211</th>\n",
       "      <td>[[396800.0], [98961.6], [246910.09523809524], ...</td>\n",
       "      <td>246420.6</td>\n",
       "      <td>297522.0</td>\n",
       "      <td>297522.0</td>\n",
       "      <td>330737.5</td>\n",
       "      <td>330737.5</td>\n",
       "      <td>361030.7</td>\n",
       "      <td>361030.7</td>\n",
       "      <td>378404.0</td>\n",
       "      <td>378404.0</td>\n",
       "      <td>...</td>\n",
       "      <td>0.0</td>\n",
       "      <td>0</td>\n",
       "      <td>0.186111</td>\n",
       "      <td>0.480556</td>\n",
       "      <td>netflix</td>\n",
       "      <td>False</td>\n",
       "      <td>False</td>\n",
       "      <td>False</td>\n",
       "      <td>False</td>\n",
       "      <td>12.0</td>\n",
       "    </tr>\n",
       "    <tr>\n",
       "      <th>212</th>\n",
       "      <td>[[325264.0], [331102.4], [365584.38095238095],...</td>\n",
       "      <td>336681.0</td>\n",
       "      <td>354461.0</td>\n",
       "      <td>354461.0</td>\n",
       "      <td>399719.5</td>\n",
       "      <td>399719.5</td>\n",
       "      <td>409866.3</td>\n",
       "      <td>409866.3</td>\n",
       "      <td>414060.0</td>\n",
       "      <td>414060.0</td>\n",
       "      <td>...</td>\n",
       "      <td>0.0</td>\n",
       "      <td>0</td>\n",
       "      <td>0.194444</td>\n",
       "      <td>0.472222</td>\n",
       "      <td>netflix</td>\n",
       "      <td>False</td>\n",
       "      <td>False</td>\n",
       "      <td>False</td>\n",
       "      <td>False</td>\n",
       "      <td>12.0</td>\n",
       "    </tr>\n",
       "  </tbody>\n",
       "</table>\n",
       "<p>5 rows × 251 columns</p>\n",
       "</div>"
      ],
      "text/plain": [
       "                                    10_EWMA_chunksizes  10_avg_chunksize  \\\n",
       "208  [[4380.0], [4380.0], [19682.095238095237], [23...          148947.1   \n",
       "209  [[179260.0], [130204.0], [49666.09523809524], ...           91984.2   \n",
       "210  [[317962.0], [83192.4], [170850.7619047619], [...          147725.0   \n",
       "211  [[396800.0], [98961.6], [246910.09523809524], ...          246420.6   \n",
       "212  [[325264.0], [331102.4], [365584.38095238095],...          336681.0   \n",
       "\n",
       "     10_chunksizes_50  10_chunksizes_50R  10_chunksizes_75  10_chunksizes_75R  \\\n",
       "208           43473.0            43473.0          185098.0           185098.0   \n",
       "209          101882.0           101882.0          122323.0           122323.0   \n",
       "210          111373.0           111373.0          224157.0           224157.0   \n",
       "211          297522.0           297522.0          330737.5           330737.5   \n",
       "212          354461.0           354461.0          399719.5           399719.5   \n",
       "\n",
       "     10_chunksizes_85  10_chunksizes_85R  10_chunksizes_90  10_chunksizes_90R  \\\n",
       "208          361832.3           361832.3          461040.2           461040.2   \n",
       "209          159843.4           159843.4          181011.8           181011.8   \n",
       "210          286280.0           286280.0          325845.8           325845.8   \n",
       "211          361030.7           361030.7          378404.0           378404.0   \n",
       "212          409866.3           409866.3          414060.0           414060.0   \n",
       "\n",
       "     ...  userTwoRetransmit  userUrgFlags  userXRetransmit  \\\n",
       "208  ...                0.0             0         0.108730   \n",
       "209  ...                0.0             0         0.116865   \n",
       "210  ...                0.0             0         0.126852   \n",
       "211  ...                0.0             0         0.186111   \n",
       "212  ...                0.0             0         0.194444   \n",
       "\n",
       "     userZeroRetransmit  service  startup3.3  startup6.6  startup5  startup10  \\\n",
       "208            0.557937  netflix       False       False     False      False   \n",
       "209            0.549802  netflix       False       False     False      False   \n",
       "210            0.539815  netflix       False       False     False      False   \n",
       "211            0.480556  netflix       False       False     False      False   \n",
       "212            0.472222  netflix       False       False     False      False   \n",
       "\n",
       "     startup_mc  \n",
       "208        12.0  \n",
       "209        12.0  \n",
       "210        12.0  \n",
       "211        12.0  \n",
       "212        12.0  \n",
       "\n",
       "[5 rows x 251 columns]"
      ]
     },
     "execution_count": 92,
     "metadata": {},
     "output_type": "execute_result"
    }
   ],
   "source": [
    "video_packets.head()"
   ]
  },
  {
   "cell_type": "markdown",
   "metadata": {},
   "source": [
    "2. The file also contains columns that are unnecessary (in fact, unhelpful!) for performing predictions. Identify those columns, and remove them."
   ]
  },
  {
   "cell_type": "markdown",
   "metadata": {},
   "source": [
    "I first observed that there are some columns where all the values are identical."
   ]
  },
  {
   "cell_type": "code",
   "execution_count": 97,
   "metadata": {},
   "outputs": [
    {
     "name": "stdout",
     "output_type": "stream",
     "text": [
      "0 rows where 'service' != 'netflix'\n"
     ]
    }
   ],
   "source": [
    "print(f\"{sum(video_packets['service'] != 'netflix')} rows where 'service' != 'netflix'\")"
   ]
  },
  {
   "cell_type": "code",
   "execution_count": 109,
   "metadata": {},
   "outputs": [
    {
     "name": "stdout",
     "output_type": "stream",
     "text": [
      "0 rows where 'ads' is True\n"
     ]
    }
   ],
   "source": [
    "print(f\"{sum(video_packets['ads'])} rows where 'ads' is True\")"
   ]
  },
  {
   "cell_type": "markdown",
   "metadata": {},
   "source": [
    "I choose to remove these in an automated way."
   ]
  },
  {
   "cell_type": "code",
   "execution_count": 169,
   "metadata": {},
   "outputs": [
    {
     "name": "stdout",
     "output_type": "stream",
     "text": [
      "could not compute equality for col: 10_EWMA_chunksizes\n"
     ]
    }
   ],
   "source": [
    "# identify cols where all the values are identical\n",
    "\n",
    "cols_all_vals_identical = []\n",
    "\n",
    "for col in list(video_packets.columns):\n",
    "    first_val = list(video_packets[col])[0]\n",
    "    try:\n",
    "        num_neq_first = sum(video_packets[col] != first_val)\n",
    "        if num_neq_first <= 10:\n",
    "            cols_all_vals_identical.append(col)\n",
    "    except:\n",
    "        print(\"could not compute equality for col:\", col)"
   ]
  },
  {
   "cell_type": "code",
   "execution_count": 185,
   "metadata": {},
   "outputs": [],
   "source": [
    "handpicked_to_drop = ['absolute_timestamp', 'session_id', 'size_diff_previous', 'video_id', 'home_id']\n",
    "DROP = list(set(handpicked_to_drop + cols_all_vals_identical))\n",
    "video_packets = video_packets.drop(DROP, axis=1)"
   ]
  },
  {
   "cell_type": "markdown",
   "metadata": {},
   "source": [
    "**Briefly explain why you removed those columns.**"
   ]
  },
  {
   "cell_type": "markdown",
   "metadata": {},
   "source": [
    "There are 14 columns where all the values are exactly equal. However, there are 3 more columns where less than three rows have a value that differs from the value of the first row in the packet trace. Therefore, we drop 17 total rows for having columns where all the values have practically the same contents regardless of the row."
   ]
  },
  {
   "cell_type": "markdown",
   "metadata": {},
   "source": [
    "For \"session_id\", this is a string that would probably not ever be identically to anything in the training data if you ran inference of the model in a new session. For the same reason, we drop 'video_id', \"deployment_session_id\", and \"home_id\".\n",
    "\n",
    "We drop absolute_timestamp becuase even if it was normalized, the actual value of this would probably not be correlated with anything too meaningful. It looks like all these videos were recorded at roughly the same time in the day so there isn't really meaningful temporal information here. See work below:"
   ]
  },
  {
   "cell_type": "code",
   "execution_count": 184,
   "metadata": {},
   "outputs": [
    {
     "data": {
      "text/plain": [
       "0.022597737868972748"
      ]
     },
     "execution_count": 184,
     "metadata": {},
     "output_type": "execute_result"
    }
   ],
   "source": [
    "(max(video_packets[\"absolute_timestamp\"]) - min(video_packets[\"absolute_timestamp\"])) / max(video_packets[\"absolute_timestamp\"]) "
   ]
  },
  {
   "cell_type": "markdown",
   "metadata": {},
   "source": [
    "### Prepare Your Data\n",
    "\n",
    "Prepare your data matrix, determine your features and labels, and perform a train-test split on your data."
   ]
  },
  {
   "cell_type": "code",
   "execution_count": null,
   "metadata": {},
   "outputs": [],
   "source": []
  },
  {
   "cell_type": "code",
   "execution_count": null,
   "metadata": {},
   "outputs": [],
   "source": [
    "video duration, video position"
   ]
  },
  {
   "cell_type": "markdown",
   "metadata": {},
   "source": [
    "### Train and Tune Your Model\n",
    "\n",
    "1. Select a model of your choice.\n",
    "2. Train the model using your training data."
   ]
  },
  {
   "cell_type": "code",
   "execution_count": null,
   "metadata": {},
   "outputs": [],
   "source": []
  },
  {
   "cell_type": "markdown",
   "metadata": {},
   "source": [
    "### Tune Your Model\n",
    "\n",
    "Perform hyperparameter tuning to find optimal parameters for your model."
   ]
  },
  {
   "cell_type": "code",
   "execution_count": null,
   "metadata": {},
   "outputs": [],
   "source": []
  },
  {
   "cell_type": "markdown",
   "metadata": {},
   "source": [
    "### Evaluate Your Model\n",
    "\n",
    "Evaluate your model accuracy according to the following metrics:\n",
    "\n",
    "1. Accuracy\n",
    "2. F1 Score\n",
    "3. Confusion Matrix\n",
    "4. ROC/AUC"
   ]
  },
  {
   "cell_type": "markdown",
   "metadata": {},
   "source": [
    "## Part 3: Predict the Ongoing Resolution of a Real Netflix Session\n",
    "\n",
    "Now that you have your model, it's time to put it in practice!\n",
    "\n",
    "Use a preprocessed Netflix video session to infer **and plot** the resolution at 10-second time intervals."
   ]
  },
  {
   "cell_type": "code",
   "execution_count": null,
   "metadata": {},
   "outputs": [],
   "source": []
  }
 ],
 "metadata": {
  "colab": {
   "authorship_tag": "ABX9TyM0Cd1i3qtplCsVAB9qTjxA",
   "collapsed_sections": [],
   "name": "pcap_processing_solution.ipynb",
   "provenance": []
  },
  "kernelspec": {
   "display_name": "Python 3 (ipykernel)",
   "language": "python",
   "name": "python3"
  },
  "language_info": {
   "codemirror_mode": {
    "name": "ipython",
    "version": 3
   },
   "file_extension": ".py",
   "mimetype": "text/x-python",
   "name": "python",
   "nbconvert_exporter": "python",
   "pygments_lexer": "ipython3",
   "version": "3.11.11"
  }
 },
 "nbformat": 4,
 "nbformat_minor": 4
}
