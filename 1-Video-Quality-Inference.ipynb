{
 "cells": [
  {
   "cell_type": "markdown",
   "metadata": {
    "colab_type": "text",
    "id": "zbGBJegvBuXV"
   },
   "source": [
    "# Assignment: Video Quality Inference\n",
    "\n",
    "To this point in the class, you have learned various techniques for leading and analyzing packet captures of various types, generating features from those packet captures, and training and evaluating models using those features.\n",
    "\n",
    "In this assignment, you will put all of this together, using a network traffic trace to train a model to automatically infer video quality of experience from a labeled traffic trace.\n",
    "\n",
    "## Part 1: Warmup\n",
    "\n",
    "The first part of this assignment builds directly on the hands-on activities but extends them slightly.\n",
    "\n",
    "### Extract Features from the Network Traffic\n",
    "\n",
    "Load the `netflix.pcap` file, which is a packet trace that includes network traffic. \n",
    "\n",
    "Click [here](https://github.com/noise-lab/ml-systems/blob/main/docs/notebooks/data/netflix.pcap) to download `netflix.pcap`.\n"
   ]
  },
  {
   "cell_type": "code",
   "execution_count": 2,
   "metadata": {},
   "outputs": [],
   "source": [
    "import pandas as pd"
   ]
  },
  {
   "cell_type": "code",
   "execution_count": 3,
   "metadata": {},
   "outputs": [],
   "source": [
    "# I opened wireshark and downloaded the pcap as a csv.\n",
    "# That is why the filename below is different from what you may expect\n",
    "\n",
    "packets = pd.read_csv(\"ml-systems-netflix-packets.csv\")"
   ]
  },
  {
   "cell_type": "code",
   "execution_count": 4,
   "metadata": {},
   "outputs": [
    {
     "data": {
      "text/html": [
       "<div>\n",
       "<style scoped>\n",
       "    .dataframe tbody tr th:only-of-type {\n",
       "        vertical-align: middle;\n",
       "    }\n",
       "\n",
       "    .dataframe tbody tr th {\n",
       "        vertical-align: top;\n",
       "    }\n",
       "\n",
       "    .dataframe thead th {\n",
       "        text-align: right;\n",
       "    }\n",
       "</style>\n",
       "<table border=\"1\" class=\"dataframe\">\n",
       "  <thead>\n",
       "    <tr style=\"text-align: right;\">\n",
       "      <th></th>\n",
       "      <th>No.</th>\n",
       "      <th>Time</th>\n",
       "      <th>Source</th>\n",
       "      <th>Destination</th>\n",
       "      <th>Protocol</th>\n",
       "      <th>Length</th>\n",
       "      <th>Info</th>\n",
       "      <th>dest (r)</th>\n",
       "      <th>dest(u)</th>\n",
       "      <th>src (r)</th>\n",
       "      <th>src(u)</th>\n",
       "      <th>New Column</th>\n",
       "    </tr>\n",
       "  </thead>\n",
       "  <tbody>\n",
       "    <tr>\n",
       "      <th>0</th>\n",
       "      <td>1</td>\n",
       "      <td>0.000000</td>\n",
       "      <td>192.168.43.72</td>\n",
       "      <td>128.93.77.234</td>\n",
       "      <td>DNS</td>\n",
       "      <td>77</td>\n",
       "      <td>Standard query 0xed0c A fonts.gstatic.com</td>\n",
       "      <td>53.0</td>\n",
       "      <td>53.0</td>\n",
       "      <td>55697.0</td>\n",
       "      <td>55697.0</td>\n",
       "      <td>1</td>\n",
       "    </tr>\n",
       "    <tr>\n",
       "      <th>1</th>\n",
       "      <td>2</td>\n",
       "      <td>0.000150</td>\n",
       "      <td>192.168.43.72</td>\n",
       "      <td>128.93.77.234</td>\n",
       "      <td>DNS</td>\n",
       "      <td>77</td>\n",
       "      <td>Standard query 0x301a AAAA fonts.gstatic.com</td>\n",
       "      <td>53.0</td>\n",
       "      <td>53.0</td>\n",
       "      <td>59884.0</td>\n",
       "      <td>59884.0</td>\n",
       "      <td>2</td>\n",
       "    </tr>\n",
       "    <tr>\n",
       "      <th>2</th>\n",
       "      <td>3</td>\n",
       "      <td>0.004726</td>\n",
       "      <td>192.168.43.72</td>\n",
       "      <td>128.93.77.234</td>\n",
       "      <td>DNS</td>\n",
       "      <td>87</td>\n",
       "      <td>Standard query 0x11d3 A googleads.g.doubleclic...</td>\n",
       "      <td>53.0</td>\n",
       "      <td>53.0</td>\n",
       "      <td>61223.0</td>\n",
       "      <td>61223.0</td>\n",
       "      <td>3</td>\n",
       "    </tr>\n",
       "    <tr>\n",
       "      <th>3</th>\n",
       "      <td>4</td>\n",
       "      <td>0.006522</td>\n",
       "      <td>192.168.43.72</td>\n",
       "      <td>128.93.77.234</td>\n",
       "      <td>DNS</td>\n",
       "      <td>87</td>\n",
       "      <td>Standard query 0x1284 AAAA googleads.g.doublec...</td>\n",
       "      <td>53.0</td>\n",
       "      <td>53.0</td>\n",
       "      <td>58785.0</td>\n",
       "      <td>58785.0</td>\n",
       "      <td>4</td>\n",
       "    </tr>\n",
       "    <tr>\n",
       "      <th>4</th>\n",
       "      <td>5</td>\n",
       "      <td>0.011103</td>\n",
       "      <td>192.168.43.72</td>\n",
       "      <td>128.93.77.234</td>\n",
       "      <td>DNS</td>\n",
       "      <td>78</td>\n",
       "      <td>Standard query 0x3432 AAAA ytimg.l.google.com</td>\n",
       "      <td>53.0</td>\n",
       "      <td>53.0</td>\n",
       "      <td>51938.0</td>\n",
       "      <td>51938.0</td>\n",
       "      <td>5</td>\n",
       "    </tr>\n",
       "    <tr>\n",
       "      <th>5</th>\n",
       "      <td>6</td>\n",
       "      <td>0.012354</td>\n",
       "      <td>192.168.43.72</td>\n",
       "      <td>128.93.77.234</td>\n",
       "      <td>DNS</td>\n",
       "      <td>96</td>\n",
       "      <td>Standard query 0xb756 A r4---sn-gxo5uxg-jqbe.g...</td>\n",
       "      <td>53.0</td>\n",
       "      <td>53.0</td>\n",
       "      <td>20949.0</td>\n",
       "      <td>20949.0</td>\n",
       "      <td>6</td>\n",
       "    </tr>\n",
       "    <tr>\n",
       "      <th>6</th>\n",
       "      <td>7</td>\n",
       "      <td>0.012474</td>\n",
       "      <td>192.168.43.72</td>\n",
       "      <td>128.93.77.234</td>\n",
       "      <td>DNS</td>\n",
       "      <td>75</td>\n",
       "      <td>Standard query 0x62ab A ssl.gstatic.com</td>\n",
       "      <td>53.0</td>\n",
       "      <td>53.0</td>\n",
       "      <td>58025.0</td>\n",
       "      <td>58025.0</td>\n",
       "      <td>7</td>\n",
       "    </tr>\n",
       "    <tr>\n",
       "      <th>7</th>\n",
       "      <td>8</td>\n",
       "      <td>0.012567</td>\n",
       "      <td>192.168.43.72</td>\n",
       "      <td>128.93.77.234</td>\n",
       "      <td>DNS</td>\n",
       "      <td>74</td>\n",
       "      <td>Standard query 0x42fb A www.google.com</td>\n",
       "      <td>53.0</td>\n",
       "      <td>53.0</td>\n",
       "      <td>15895.0</td>\n",
       "      <td>15895.0</td>\n",
       "      <td>8</td>\n",
       "    </tr>\n",
       "    <tr>\n",
       "      <th>8</th>\n",
       "      <td>9</td>\n",
       "      <td>0.319268</td>\n",
       "      <td>128.93.77.234</td>\n",
       "      <td>192.168.43.72</td>\n",
       "      <td>DNS</td>\n",
       "      <td>386</td>\n",
       "      <td>Standard query response 0x11d3 A 216.58.213.162</td>\n",
       "      <td>61223.0</td>\n",
       "      <td>61223.0</td>\n",
       "      <td>53.0</td>\n",
       "      <td>53.0</td>\n",
       "      <td>9</td>\n",
       "    </tr>\n",
       "    <tr>\n",
       "      <th>9</th>\n",
       "      <td>10</td>\n",
       "      <td>0.319288</td>\n",
       "      <td>192.168.43.72</td>\n",
       "      <td>128.93.77.234</td>\n",
       "      <td>DNS</td>\n",
       "      <td>75</td>\n",
       "      <td>Standard query 0x8756 A www.gstatic.com</td>\n",
       "      <td>53.0</td>\n",
       "      <td>53.0</td>\n",
       "      <td>18154.0</td>\n",
       "      <td>18154.0</td>\n",
       "      <td>10</td>\n",
       "    </tr>\n",
       "  </tbody>\n",
       "</table>\n",
       "</div>"
      ],
      "text/plain": [
       "   No.      Time         Source    Destination Protocol  Length  \\\n",
       "0    1  0.000000  192.168.43.72  128.93.77.234      DNS      77   \n",
       "1    2  0.000150  192.168.43.72  128.93.77.234      DNS      77   \n",
       "2    3  0.004726  192.168.43.72  128.93.77.234      DNS      87   \n",
       "3    4  0.006522  192.168.43.72  128.93.77.234      DNS      87   \n",
       "4    5  0.011103  192.168.43.72  128.93.77.234      DNS      78   \n",
       "5    6  0.012354  192.168.43.72  128.93.77.234      DNS      96   \n",
       "6    7  0.012474  192.168.43.72  128.93.77.234      DNS      75   \n",
       "7    8  0.012567  192.168.43.72  128.93.77.234      DNS      74   \n",
       "8    9  0.319268  128.93.77.234  192.168.43.72      DNS     386   \n",
       "9   10  0.319288  192.168.43.72  128.93.77.234      DNS      75   \n",
       "\n",
       "                                                Info  dest (r)  dest(u)  \\\n",
       "0          Standard query 0xed0c A fonts.gstatic.com      53.0     53.0   \n",
       "1       Standard query 0x301a AAAA fonts.gstatic.com      53.0     53.0   \n",
       "2  Standard query 0x11d3 A googleads.g.doubleclic...      53.0     53.0   \n",
       "3  Standard query 0x1284 AAAA googleads.g.doublec...      53.0     53.0   \n",
       "4      Standard query 0x3432 AAAA ytimg.l.google.com      53.0     53.0   \n",
       "5  Standard query 0xb756 A r4---sn-gxo5uxg-jqbe.g...      53.0     53.0   \n",
       "6            Standard query 0x62ab A ssl.gstatic.com      53.0     53.0   \n",
       "7             Standard query 0x42fb A www.google.com      53.0     53.0   \n",
       "8    Standard query response 0x11d3 A 216.58.213.162   61223.0  61223.0   \n",
       "9            Standard query 0x8756 A www.gstatic.com      53.0     53.0   \n",
       "\n",
       "   src (r)   src(u)  New Column  \n",
       "0  55697.0  55697.0           1  \n",
       "1  59884.0  59884.0           2  \n",
       "2  61223.0  61223.0           3  \n",
       "3  58785.0  58785.0           4  \n",
       "4  51938.0  51938.0           5  \n",
       "5  20949.0  20949.0           6  \n",
       "6  58025.0  58025.0           7  \n",
       "7  15895.0  15895.0           8  \n",
       "8     53.0     53.0           9  \n",
       "9  18154.0  18154.0          10  "
      ]
     },
     "execution_count": 4,
     "metadata": {},
     "output_type": "execute_result"
    }
   ],
   "source": [
    "packets.head(10)"
   ]
  },
  {
   "cell_type": "markdown",
   "metadata": {},
   "source": [
    "### Cleaning the data frame"
   ]
  },
  {
   "cell_type": "markdown",
   "metadata": {},
   "source": [
    "Before gettingstarted on the next stemp, I wanted to get a little more familiar with the data. First I wanted to answer:\n",
    "\n",
    "1. What is the difference between \"dest (r)\" and \"dest(u)\"?\n",
    "2. What is the difference between \"src (r)\" and \"src(u)\"?\n",
    "3. What is going on with the \"New Column\" column?\n",
    "\n",
    "I could of course look it up or ask Claude, but where is the fun in that? I wanted to first investigate what is going on myself."
   ]
  },
  {
   "cell_type": "code",
   "execution_count": 12,
   "metadata": {},
   "outputs": [
    {
     "data": {
      "text/plain": [
       "80"
      ]
     },
     "execution_count": 12,
     "metadata": {},
     "output_type": "execute_result"
    }
   ],
   "source": [
    "# this cell shows there are 80 instances where \"dest (r)\" is not equal to \"dest(u)\"\n",
    "len(packets) - sum(packets[\"dest (r)\"] == packets[\"dest(u)\"]) "
   ]
  },
  {
   "cell_type": "code",
   "execution_count": 18,
   "metadata": {},
   "outputs": [
    {
     "data": {
      "text/html": [
       "<div>\n",
       "<style scoped>\n",
       "    .dataframe tbody tr th:only-of-type {\n",
       "        vertical-align: middle;\n",
       "    }\n",
       "\n",
       "    .dataframe tbody tr th {\n",
       "        vertical-align: top;\n",
       "    }\n",
       "\n",
       "    .dataframe thead th {\n",
       "        text-align: right;\n",
       "    }\n",
       "</style>\n",
       "<table border=\"1\" class=\"dataframe\">\n",
       "  <thead>\n",
       "    <tr style=\"text-align: right;\">\n",
       "      <th></th>\n",
       "      <th>No.</th>\n",
       "      <th>Time</th>\n",
       "      <th>Source</th>\n",
       "      <th>Destination</th>\n",
       "      <th>Protocol</th>\n",
       "      <th>Length</th>\n",
       "      <th>Info</th>\n",
       "      <th>dest (r)</th>\n",
       "      <th>dest(u)</th>\n",
       "      <th>src (r)</th>\n",
       "      <th>src(u)</th>\n",
       "      <th>New Column</th>\n",
       "    </tr>\n",
       "  </thead>\n",
       "  <tbody>\n",
       "    <tr>\n",
       "      <th>877</th>\n",
       "      <td>878</td>\n",
       "      <td>8.391182</td>\n",
       "      <td>CeLink_0d:2b:a7</td>\n",
       "      <td>Apple_01:4c:54</td>\n",
       "      <td>ARP</td>\n",
       "      <td>60</td>\n",
       "      <td>Who has 192.168.43.72? Tell 192.168.43.1</td>\n",
       "      <td>NaN</td>\n",
       "      <td>NaN</td>\n",
       "      <td>NaN</td>\n",
       "      <td>NaN</td>\n",
       "      <td>878</td>\n",
       "    </tr>\n",
       "    <tr>\n",
       "      <th>878</th>\n",
       "      <td>879</td>\n",
       "      <td>8.391235</td>\n",
       "      <td>Apple_01:4c:54</td>\n",
       "      <td>CeLink_0d:2b:a7</td>\n",
       "      <td>ARP</td>\n",
       "      <td>42</td>\n",
       "      <td>192.168.43.72 is at e4:ce:8f:01:4c:54</td>\n",
       "      <td>NaN</td>\n",
       "      <td>NaN</td>\n",
       "      <td>NaN</td>\n",
       "      <td>NaN</td>\n",
       "      <td>879</td>\n",
       "    </tr>\n",
       "    <tr>\n",
       "      <th>2324</th>\n",
       "      <td>2325</td>\n",
       "      <td>33.085201</td>\n",
       "      <td>fe80::a021:b7ff:febb:19ec</td>\n",
       "      <td>ff02::1</td>\n",
       "      <td>ICMPv6</td>\n",
       "      <td>86</td>\n",
       "      <td>Multicast Listener Query</td>\n",
       "      <td>NaN</td>\n",
       "      <td>NaN</td>\n",
       "      <td>NaN</td>\n",
       "      <td>NaN</td>\n",
       "      <td>2325</td>\n",
       "    </tr>\n",
       "    <tr>\n",
       "      <th>2388</th>\n",
       "      <td>2389</td>\n",
       "      <td>34.215829</td>\n",
       "      <td>fe80::e6ce:8fff:fe01:4c54</td>\n",
       "      <td>ff02::1:ff01:4c54</td>\n",
       "      <td>ICMPv6</td>\n",
       "      <td>86</td>\n",
       "      <td>Multicast Listener Report</td>\n",
       "      <td>NaN</td>\n",
       "      <td>NaN</td>\n",
       "      <td>NaN</td>\n",
       "      <td>NaN</td>\n",
       "      <td>2389</td>\n",
       "    </tr>\n",
       "    <tr>\n",
       "      <th>2459</th>\n",
       "      <td>2460</td>\n",
       "      <td>35.215949</td>\n",
       "      <td>fe80::e6ce:8fff:fe01:4c54</td>\n",
       "      <td>ff02::1:ff77:3595</td>\n",
       "      <td>ICMPv6</td>\n",
       "      <td>86</td>\n",
       "      <td>Multicast Listener Report</td>\n",
       "      <td>NaN</td>\n",
       "      <td>NaN</td>\n",
       "      <td>NaN</td>\n",
       "      <td>NaN</td>\n",
       "      <td>2460</td>\n",
       "    </tr>\n",
       "  </tbody>\n",
       "</table>\n",
       "</div>"
      ],
      "text/plain": [
       "       No.       Time                     Source        Destination Protocol  \\\n",
       "877    878   8.391182            CeLink_0d:2b:a7     Apple_01:4c:54      ARP   \n",
       "878    879   8.391235             Apple_01:4c:54    CeLink_0d:2b:a7      ARP   \n",
       "2324  2325  33.085201  fe80::a021:b7ff:febb:19ec            ff02::1   ICMPv6   \n",
       "2388  2389  34.215829  fe80::e6ce:8fff:fe01:4c54  ff02::1:ff01:4c54   ICMPv6   \n",
       "2459  2460  35.215949  fe80::e6ce:8fff:fe01:4c54  ff02::1:ff77:3595   ICMPv6   \n",
       "\n",
       "      Length                                      Info  dest (r)  dest(u)  \\\n",
       "877       60  Who has 192.168.43.72? Tell 192.168.43.1       NaN      NaN   \n",
       "878       42     192.168.43.72 is at e4:ce:8f:01:4c:54       NaN      NaN   \n",
       "2324      86                  Multicast Listener Query       NaN      NaN   \n",
       "2388      86                 Multicast Listener Report       NaN      NaN   \n",
       "2459      86                 Multicast Listener Report       NaN      NaN   \n",
       "\n",
       "      src (r)  src(u)  New Column  \n",
       "877       NaN     NaN         878  \n",
       "878       NaN     NaN         879  \n",
       "2324      NaN     NaN        2325  \n",
       "2388      NaN     NaN        2389  \n",
       "2459      NaN     NaN        2460  "
      ]
     },
     "execution_count": 18,
     "metadata": {},
     "output_type": "execute_result"
    }
   ],
   "source": [
    "# we investigate what is happening in the cases where these aren't equal\n",
    "packets[packets[\"dest (r)\"] != packets[\"dest(u)\"]].head(5)"
   ]
  },
  {
   "cell_type": "code",
   "execution_count": 24,
   "metadata": {},
   "outputs": [
    {
     "name": "stdout",
     "output_type": "stream",
     "text": [
      "Empty DataFrame\n",
      "Columns: [No., Time, Source, Destination, Protocol, Length, Info, dest (r), dest(u), src (r), src(u), New Column]\n",
      "Index: []\n"
     ]
    }
   ],
   "source": [
    "# we can see that these 80 values are accounted for by NaN values\n",
    "print(packets[~packets[\"dest (r)\"].isna() & (packets[\"dest (r)\"] != packets[\"dest(u)\"])])\n",
    "\n",
    "# I used Claude on this cell to debug an issue that I was having with indexing in pandas:\n",
    "# https://claude.ai/share/d68d6049-2976-400d-9395-e8a6c1cf7f19"
   ]
  },
  {
   "cell_type": "code",
   "execution_count": 46,
   "metadata": {},
   "outputs": [
    {
     "ename": "KeyError",
     "evalue": "'src (r)'",
     "output_type": "error",
     "traceback": [
      "\u001b[31m---------------------------------------------------------------------------\u001b[39m",
      "\u001b[31mKeyError\u001b[39m                                  Traceback (most recent call last)",
      "\u001b[36mFile \u001b[39m\u001b[32m~/anaconda3/envs/xlab/lib/python3.11/site-packages/pandas/core/indexes/base.py:3805\u001b[39m, in \u001b[36mIndex.get_loc\u001b[39m\u001b[34m(self, key)\u001b[39m\n\u001b[32m   3804\u001b[39m \u001b[38;5;28;01mtry\u001b[39;00m:\n\u001b[32m-> \u001b[39m\u001b[32m3805\u001b[39m     \u001b[38;5;28;01mreturn\u001b[39;00m \u001b[38;5;28mself\u001b[39m._engine.get_loc(casted_key)\n\u001b[32m   3806\u001b[39m \u001b[38;5;28;01mexcept\u001b[39;00m \u001b[38;5;167;01mKeyError\u001b[39;00m \u001b[38;5;28;01mas\u001b[39;00m err:\n",
      "\u001b[36mFile \u001b[39m\u001b[32mindex.pyx:167\u001b[39m, in \u001b[36mpandas._libs.index.IndexEngine.get_loc\u001b[39m\u001b[34m()\u001b[39m\n",
      "\u001b[36mFile \u001b[39m\u001b[32mindex.pyx:196\u001b[39m, in \u001b[36mpandas._libs.index.IndexEngine.get_loc\u001b[39m\u001b[34m()\u001b[39m\n",
      "\u001b[36mFile \u001b[39m\u001b[32mpandas/_libs/hashtable_class_helper.pxi:7081\u001b[39m, in \u001b[36mpandas._libs.hashtable.PyObjectHashTable.get_item\u001b[39m\u001b[34m()\u001b[39m\n",
      "\u001b[36mFile \u001b[39m\u001b[32mpandas/_libs/hashtable_class_helper.pxi:7089\u001b[39m, in \u001b[36mpandas._libs.hashtable.PyObjectHashTable.get_item\u001b[39m\u001b[34m()\u001b[39m\n",
      "\u001b[31mKeyError\u001b[39m: 'src (r)'",
      "\nThe above exception was the direct cause of the following exception:\n",
      "\u001b[31mKeyError\u001b[39m                                  Traceback (most recent call last)",
      "\u001b[36mCell\u001b[39m\u001b[36m \u001b[39m\u001b[32mIn[46]\u001b[39m\u001b[32m, line 3\u001b[39m\n\u001b[32m      1\u001b[39m \u001b[38;5;66;03m# we can now show the same thing with \"src (r)\" and \"src(u)\"\u001b[39;00m\n\u001b[32m      2\u001b[39m \u001b[38;5;66;03m# we can see that these 80 values are accounted for by NaN values\u001b[39;00m\n\u001b[32m----> \u001b[39m\u001b[32m3\u001b[39m \u001b[38;5;28mprint\u001b[39m(packets[packets[\u001b[33m\"\u001b[39m\u001b[33msrc (r)\u001b[39m\u001b[33m\"\u001b[39m].isna() & (packets[\u001b[33m\"\u001b[39m\u001b[33msrc (r)\u001b[39m\u001b[33m\"\u001b[39m] != packets[\u001b[33m\"\u001b[39m\u001b[33msrc(u)\u001b[39m\u001b[33m\"\u001b[39m])])\n",
      "\u001b[36mFile \u001b[39m\u001b[32m~/anaconda3/envs/xlab/lib/python3.11/site-packages/pandas/core/frame.py:4102\u001b[39m, in \u001b[36mDataFrame.__getitem__\u001b[39m\u001b[34m(self, key)\u001b[39m\n\u001b[32m   4100\u001b[39m \u001b[38;5;28;01mif\u001b[39;00m \u001b[38;5;28mself\u001b[39m.columns.nlevels > \u001b[32m1\u001b[39m:\n\u001b[32m   4101\u001b[39m     \u001b[38;5;28;01mreturn\u001b[39;00m \u001b[38;5;28mself\u001b[39m._getitem_multilevel(key)\n\u001b[32m-> \u001b[39m\u001b[32m4102\u001b[39m indexer = \u001b[38;5;28mself\u001b[39m.columns.get_loc(key)\n\u001b[32m   4103\u001b[39m \u001b[38;5;28;01mif\u001b[39;00m is_integer(indexer):\n\u001b[32m   4104\u001b[39m     indexer = [indexer]\n",
      "\u001b[36mFile \u001b[39m\u001b[32m~/anaconda3/envs/xlab/lib/python3.11/site-packages/pandas/core/indexes/base.py:3812\u001b[39m, in \u001b[36mIndex.get_loc\u001b[39m\u001b[34m(self, key)\u001b[39m\n\u001b[32m   3807\u001b[39m     \u001b[38;5;28;01mif\u001b[39;00m \u001b[38;5;28misinstance\u001b[39m(casted_key, \u001b[38;5;28mslice\u001b[39m) \u001b[38;5;129;01mor\u001b[39;00m (\n\u001b[32m   3808\u001b[39m         \u001b[38;5;28misinstance\u001b[39m(casted_key, abc.Iterable)\n\u001b[32m   3809\u001b[39m         \u001b[38;5;129;01mand\u001b[39;00m \u001b[38;5;28many\u001b[39m(\u001b[38;5;28misinstance\u001b[39m(x, \u001b[38;5;28mslice\u001b[39m) \u001b[38;5;28;01mfor\u001b[39;00m x \u001b[38;5;129;01min\u001b[39;00m casted_key)\n\u001b[32m   3810\u001b[39m     ):\n\u001b[32m   3811\u001b[39m         \u001b[38;5;28;01mraise\u001b[39;00m InvalidIndexError(key)\n\u001b[32m-> \u001b[39m\u001b[32m3812\u001b[39m     \u001b[38;5;28;01mraise\u001b[39;00m \u001b[38;5;167;01mKeyError\u001b[39;00m(key) \u001b[38;5;28;01mfrom\u001b[39;00m\u001b[38;5;250m \u001b[39m\u001b[34;01merr\u001b[39;00m\n\u001b[32m   3813\u001b[39m \u001b[38;5;28;01mexcept\u001b[39;00m \u001b[38;5;167;01mTypeError\u001b[39;00m:\n\u001b[32m   3814\u001b[39m     \u001b[38;5;66;03m# If we have a listlike key, _check_indexing_error will raise\u001b[39;00m\n\u001b[32m   3815\u001b[39m     \u001b[38;5;66;03m#  InvalidIndexError. Otherwise we fall through and re-raise\u001b[39;00m\n\u001b[32m   3816\u001b[39m     \u001b[38;5;66;03m#  the TypeError.\u001b[39;00m\n\u001b[32m   3817\u001b[39m     \u001b[38;5;28mself\u001b[39m._check_indexing_error(key)\n",
      "\u001b[31mKeyError\u001b[39m: 'src (r)'"
     ]
    }
   ],
   "source": [
    "# we can now show the same thing with \"src (r)\" and \"src(u)\"\n",
    "# we can see that these 80 values are accounted for by NaN values\n",
    "print(packets[~packets[\"src (r)\"].isna() & (packets[\"src (r)\"] != packets[\"src(u)\"])])"
   ]
  },
  {
   "cell_type": "code",
   "execution_count": 28,
   "metadata": {},
   "outputs": [],
   "source": [
    "# now we investigate the \"New Column\"\n",
    "new_col_list = packets[\"New Column\"].to_list()"
   ]
  },
  {
   "cell_type": "code",
   "execution_count": 30,
   "metadata": {},
   "outputs": [],
   "source": [
    "# now we show that it is just the row number indexed at one\n",
    "for i in range(len(new_col_list)):\n",
    "    assert i +1 == new_col_list[i]"
   ]
  },
  {
   "cell_type": "markdown",
   "metadata": {},
   "source": [
    "So to answer my original questions from above:\n",
    "\n",
    "1. The values for \"dest (r)\" and \"dest(u)\" are always identical\n",
    "2. The values for \"src (r)\" and \"src(u)\" are always identical\n",
    "3. The values in \"New Column\" contain no meaningful information.\n",
    "\n",
    "Therefore we can colapse \"dest (r)\" and \"dest(u)\" into a single \"dest\" column. Likewise, we can colapse \"src (r)\" and \"src(u)\" into a single \"src\" column. We can drop \"New Column\" entirely."
   ]
  },
  {
   "cell_type": "code",
   "execution_count": 51,
   "metadata": {},
   "outputs": [],
   "source": [
    "# packets = packets.drop(['src (r)', 'dest (r)', 'New Column'], axis=1)\n",
    "packets = packets.rename(columns={\"dest(u)\": \"dest\", \"src(u)\": \"src\"})\n",
    "\n",
    "# I referenced the link below for how to drop a column in pandas\n",
    "# https://pandas.pydata.org/docs/reference/api/pandas.DataFrame.drop.html\n",
    "\n",
    "# I referenced the link below to know how to rename columns in pandas\n",
    "# https://stackoverflow.com/questions/11346283/renaming-column-names-in-pandas"
   ]
  },
  {
   "cell_type": "code",
   "execution_count": 52,
   "metadata": {},
   "outputs": [
    {
     "data": {
      "text/html": [
       "<div>\n",
       "<style scoped>\n",
       "    .dataframe tbody tr th:only-of-type {\n",
       "        vertical-align: middle;\n",
       "    }\n",
       "\n",
       "    .dataframe tbody tr th {\n",
       "        vertical-align: top;\n",
       "    }\n",
       "\n",
       "    .dataframe thead th {\n",
       "        text-align: right;\n",
       "    }\n",
       "</style>\n",
       "<table border=\"1\" class=\"dataframe\">\n",
       "  <thead>\n",
       "    <tr style=\"text-align: right;\">\n",
       "      <th></th>\n",
       "      <th>No.</th>\n",
       "      <th>Time</th>\n",
       "      <th>Source</th>\n",
       "      <th>Destination</th>\n",
       "      <th>Protocol</th>\n",
       "      <th>Length</th>\n",
       "      <th>Info</th>\n",
       "      <th>dest</th>\n",
       "      <th>src</th>\n",
       "    </tr>\n",
       "  </thead>\n",
       "  <tbody>\n",
       "    <tr>\n",
       "      <th>0</th>\n",
       "      <td>1</td>\n",
       "      <td>0.000000</td>\n",
       "      <td>192.168.43.72</td>\n",
       "      <td>128.93.77.234</td>\n",
       "      <td>DNS</td>\n",
       "      <td>77</td>\n",
       "      <td>Standard query 0xed0c A fonts.gstatic.com</td>\n",
       "      <td>53.0</td>\n",
       "      <td>55697.0</td>\n",
       "    </tr>\n",
       "    <tr>\n",
       "      <th>1</th>\n",
       "      <td>2</td>\n",
       "      <td>0.000150</td>\n",
       "      <td>192.168.43.72</td>\n",
       "      <td>128.93.77.234</td>\n",
       "      <td>DNS</td>\n",
       "      <td>77</td>\n",
       "      <td>Standard query 0x301a AAAA fonts.gstatic.com</td>\n",
       "      <td>53.0</td>\n",
       "      <td>59884.0</td>\n",
       "    </tr>\n",
       "    <tr>\n",
       "      <th>2</th>\n",
       "      <td>3</td>\n",
       "      <td>0.004726</td>\n",
       "      <td>192.168.43.72</td>\n",
       "      <td>128.93.77.234</td>\n",
       "      <td>DNS</td>\n",
       "      <td>87</td>\n",
       "      <td>Standard query 0x11d3 A googleads.g.doubleclic...</td>\n",
       "      <td>53.0</td>\n",
       "      <td>61223.0</td>\n",
       "    </tr>\n",
       "    <tr>\n",
       "      <th>3</th>\n",
       "      <td>4</td>\n",
       "      <td>0.006522</td>\n",
       "      <td>192.168.43.72</td>\n",
       "      <td>128.93.77.234</td>\n",
       "      <td>DNS</td>\n",
       "      <td>87</td>\n",
       "      <td>Standard query 0x1284 AAAA googleads.g.doublec...</td>\n",
       "      <td>53.0</td>\n",
       "      <td>58785.0</td>\n",
       "    </tr>\n",
       "    <tr>\n",
       "      <th>4</th>\n",
       "      <td>5</td>\n",
       "      <td>0.011103</td>\n",
       "      <td>192.168.43.72</td>\n",
       "      <td>128.93.77.234</td>\n",
       "      <td>DNS</td>\n",
       "      <td>78</td>\n",
       "      <td>Standard query 0x3432 AAAA ytimg.l.google.com</td>\n",
       "      <td>53.0</td>\n",
       "      <td>51938.0</td>\n",
       "    </tr>\n",
       "    <tr>\n",
       "      <th>...</th>\n",
       "      <td>...</td>\n",
       "      <td>...</td>\n",
       "      <td>...</td>\n",
       "      <td>...</td>\n",
       "      <td>...</td>\n",
       "      <td>...</td>\n",
       "      <td>...</td>\n",
       "      <td>...</td>\n",
       "      <td>...</td>\n",
       "    </tr>\n",
       "    <tr>\n",
       "      <th>141466</th>\n",
       "      <td>141467</td>\n",
       "      <td>495.764425</td>\n",
       "      <td>192.168.43.72</td>\n",
       "      <td>52.208.128.101</td>\n",
       "      <td>TCP</td>\n",
       "      <td>54</td>\n",
       "      <td>58518  &gt;  443 [RST] Seq=28946 Win=0 Len=0</td>\n",
       "      <td>443.0</td>\n",
       "      <td>58518.0</td>\n",
       "    </tr>\n",
       "    <tr>\n",
       "      <th>141467</th>\n",
       "      <td>141468</td>\n",
       "      <td>495.764450</td>\n",
       "      <td>192.168.43.72</td>\n",
       "      <td>52.208.128.101</td>\n",
       "      <td>TCP</td>\n",
       "      <td>54</td>\n",
       "      <td>58518  &gt;  443 [RST] Seq=28946 Win=0 Len=0</td>\n",
       "      <td>443.0</td>\n",
       "      <td>58518.0</td>\n",
       "    </tr>\n",
       "    <tr>\n",
       "      <th>141468</th>\n",
       "      <td>141469</td>\n",
       "      <td>495.764454</td>\n",
       "      <td>192.168.43.72</td>\n",
       "      <td>104.31.113.215</td>\n",
       "      <td>TCP</td>\n",
       "      <td>54</td>\n",
       "      <td>58530  &gt;  80 [ACK] Seq=360 Ack=568 Win=262144 ...</td>\n",
       "      <td>80.0</td>\n",
       "      <td>58530.0</td>\n",
       "    </tr>\n",
       "    <tr>\n",
       "      <th>141469</th>\n",
       "      <td>141470</td>\n",
       "      <td>495.778858</td>\n",
       "      <td>172.217.18.195</td>\n",
       "      <td>192.168.43.72</td>\n",
       "      <td>TCP</td>\n",
       "      <td>66</td>\n",
       "      <td>443  &gt;  58514 [FIN, ACK] Seq=5175 Ack=3726 Win...</td>\n",
       "      <td>58514.0</td>\n",
       "      <td>443.0</td>\n",
       "    </tr>\n",
       "    <tr>\n",
       "      <th>141470</th>\n",
       "      <td>141471</td>\n",
       "      <td>495.778950</td>\n",
       "      <td>192.168.43.72</td>\n",
       "      <td>172.217.18.195</td>\n",
       "      <td>TCP</td>\n",
       "      <td>66</td>\n",
       "      <td>58514  &gt;  443 [ACK] Seq=3726 Ack=5176 Win=1310...</td>\n",
       "      <td>443.0</td>\n",
       "      <td>58514.0</td>\n",
       "    </tr>\n",
       "  </tbody>\n",
       "</table>\n",
       "<p>141471 rows × 9 columns</p>\n",
       "</div>"
      ],
      "text/plain": [
       "           No.        Time          Source     Destination Protocol  Length  \\\n",
       "0            1    0.000000   192.168.43.72   128.93.77.234      DNS      77   \n",
       "1            2    0.000150   192.168.43.72   128.93.77.234      DNS      77   \n",
       "2            3    0.004726   192.168.43.72   128.93.77.234      DNS      87   \n",
       "3            4    0.006522   192.168.43.72   128.93.77.234      DNS      87   \n",
       "4            5    0.011103   192.168.43.72   128.93.77.234      DNS      78   \n",
       "...        ...         ...             ...             ...      ...     ...   \n",
       "141466  141467  495.764425   192.168.43.72  52.208.128.101      TCP      54   \n",
       "141467  141468  495.764450   192.168.43.72  52.208.128.101      TCP      54   \n",
       "141468  141469  495.764454   192.168.43.72  104.31.113.215      TCP      54   \n",
       "141469  141470  495.778858  172.217.18.195   192.168.43.72      TCP      66   \n",
       "141470  141471  495.778950   192.168.43.72  172.217.18.195      TCP      66   \n",
       "\n",
       "                                                     Info     dest      src  \n",
       "0               Standard query 0xed0c A fonts.gstatic.com     53.0  55697.0  \n",
       "1            Standard query 0x301a AAAA fonts.gstatic.com     53.0  59884.0  \n",
       "2       Standard query 0x11d3 A googleads.g.doubleclic...     53.0  61223.0  \n",
       "3       Standard query 0x1284 AAAA googleads.g.doublec...     53.0  58785.0  \n",
       "4           Standard query 0x3432 AAAA ytimg.l.google.com     53.0  51938.0  \n",
       "...                                                   ...      ...      ...  \n",
       "141466          58518  >  443 [RST] Seq=28946 Win=0 Len=0    443.0  58518.0  \n",
       "141467          58518  >  443 [RST] Seq=28946 Win=0 Len=0    443.0  58518.0  \n",
       "141468  58530  >  80 [ACK] Seq=360 Ack=568 Win=262144 ...     80.0  58530.0  \n",
       "141469  443  >  58514 [FIN, ACK] Seq=5175 Ack=3726 Win...  58514.0    443.0  \n",
       "141470  58514  >  443 [ACK] Seq=3726 Ack=5176 Win=1310...    443.0  58514.0  \n",
       "\n",
       "[141471 rows x 9 columns]"
      ]
     },
     "execution_count": 52,
     "metadata": {},
     "output_type": "execute_result"
    }
   ],
   "source": [
    "packets"
   ]
  },
  {
   "cell_type": "markdown",
   "metadata": {
    "colab_type": "text",
    "id": "TOPPsKpYB6PS"
   },
   "source": [
    "### Identifying the Service Type\n",
    "\n",
    "Use the DNS traffic to filter the packet trace for Netflix traffic."
   ]
  },
  {
   "cell_type": "code",
   "execution_count": null,
   "metadata": {},
   "outputs": [],
   "source": []
  },
  {
   "cell_type": "markdown",
   "metadata": {
    "colab_type": "text",
    "id": "0qFV6q2OCCsK"
   },
   "source": [
    "### Generate Statistics\n",
    "\n",
    "Generate statistics and features for the Netflix traffic flows. Use the `netml` library or any other technique that you choose to generate a set of features that you think would be good features for your model. "
   ]
  },
  {
   "cell_type": "code",
   "execution_count": null,
   "metadata": {},
   "outputs": [],
   "source": []
  },
  {
   "cell_type": "markdown",
   "metadata": {
    "colab_type": "text",
    "id": "0qFV6q2OCCsK"
   },
   "source": [
    "**Write a brief justification for the features that you have chosen.**"
   ]
  },
  {
   "cell_type": "markdown",
   "metadata": {},
   "source": []
  },
  {
   "cell_type": "markdown",
   "metadata": {
    "colab_type": "text",
    "id": "lBCP_2SBC2xj"
   },
   "source": [
    "### Inferring Segment downloads\n",
    "\n",
    "In addition to the features that you could generate using the `netml` library or similar, add to your feature vector a \"segment downloads rate\" feature, which indicates the number of video segments downloaded for a given time window.\n",
    "\n",
    "Note: If you are using the `netml` library, generating features with `SAMP` style options may be useful, as this option gives you time windows, and you can then simply add the segment download rate to that existing dataframe."
   ]
  },
  {
   "cell_type": "code",
   "execution_count": null,
   "metadata": {},
   "outputs": [],
   "source": []
  },
  {
   "cell_type": "markdown",
   "metadata": {},
   "source": [
    "## Part 2: Video Quality Inference\n",
    "\n",
    "You will now load the complete video dataset from a previous study to train and test models based on these features to automatically infer the quality of a streaming video flow.\n",
    "\n",
    "For this part of the assignment, you will need two pickle files, which we provide for you by running the code below:\n",
    "\n",
    "```\n",
    "\n",
    "!gdown 'https://drive.google.com/uc?id=1N-Cf4dJ3fpak_AWgO05Fopq_XPYLVqdS' -O netflix_session.pkl\n",
    "!gdown 'https://drive.google.com/uc?id=1PHvEID7My6VZXZveCpQYy3lMo9RvMNTI' -O video_dataset.pkl\n",
    "\n",
    "```"
   ]
  },
  {
   "cell_type": "markdown",
   "metadata": {},
   "source": [
    "### Load the File\n",
    "\n",
    "Load the video dataset pickle file."
   ]
  },
  {
   "cell_type": "code",
   "execution_count": null,
   "metadata": {},
   "outputs": [],
   "source": []
  },
  {
   "cell_type": "markdown",
   "metadata": {},
   "source": [
    "### Clean the File\n",
    "\n",
    "1. The dataset contains video resolutions that are not valid. Remove entries in the dataset that do not contain a valid video resolution. Valid resolutions are 240, 360, 480, 720, 1080."
   ]
  },
  {
   "cell_type": "code",
   "execution_count": null,
   "metadata": {},
   "outputs": [],
   "source": []
  },
  {
   "cell_type": "markdown",
   "metadata": {},
   "source": [
    "2. The file also contains columns that are unnecessary (in fact, unhelpful!) for performing predictions. Identify those columns, and remove them."
   ]
  },
  {
   "cell_type": "code",
   "execution_count": null,
   "metadata": {},
   "outputs": [],
   "source": []
  },
  {
   "cell_type": "markdown",
   "metadata": {},
   "source": [
    "**Briefly explain why you removed those columns.**"
   ]
  },
  {
   "cell_type": "markdown",
   "metadata": {},
   "source": []
  },
  {
   "cell_type": "markdown",
   "metadata": {},
   "source": [
    "### Prepare Your Data\n",
    "\n",
    "Prepare your data matrix, determine your features and labels, and perform a train-test split on your data."
   ]
  },
  {
   "cell_type": "code",
   "execution_count": null,
   "metadata": {},
   "outputs": [],
   "source": []
  },
  {
   "cell_type": "markdown",
   "metadata": {},
   "source": [
    "### Train and Tune Your Model\n",
    "\n",
    "1. Select a model of your choice.\n",
    "2. Train the model using your training data."
   ]
  },
  {
   "cell_type": "code",
   "execution_count": null,
   "metadata": {},
   "outputs": [],
   "source": []
  },
  {
   "cell_type": "markdown",
   "metadata": {},
   "source": [
    "### Tune Your Model\n",
    "\n",
    "Perform hyperparameter tuning to find optimal parameters for your model."
   ]
  },
  {
   "cell_type": "code",
   "execution_count": null,
   "metadata": {},
   "outputs": [],
   "source": []
  },
  {
   "cell_type": "markdown",
   "metadata": {},
   "source": [
    "### Evaluate Your Model\n",
    "\n",
    "Evaluate your model accuracy according to the following metrics:\n",
    "\n",
    "1. Accuracy\n",
    "2. F1 Score\n",
    "3. Confusion Matrix\n",
    "4. ROC/AUC"
   ]
  },
  {
   "cell_type": "markdown",
   "metadata": {},
   "source": [
    "## Part 3: Predict the Ongoing Resolution of a Real Netflix Session\n",
    "\n",
    "Now that you have your model, it's time to put it in practice!\n",
    "\n",
    "Use a preprocessed Netflix video session to infer **and plot** the resolution at 10-second time intervals."
   ]
  },
  {
   "cell_type": "code",
   "execution_count": null,
   "metadata": {},
   "outputs": [],
   "source": []
  }
 ],
 "metadata": {
  "colab": {
   "authorship_tag": "ABX9TyM0Cd1i3qtplCsVAB9qTjxA",
   "collapsed_sections": [],
   "name": "pcap_processing_solution.ipynb",
   "provenance": []
  },
  "kernelspec": {
   "display_name": "Python 3 (ipykernel)",
   "language": "python",
   "name": "python3"
  },
  "language_info": {
   "codemirror_mode": {
    "name": "ipython",
    "version": 3
   },
   "file_extension": ".py",
   "mimetype": "text/x-python",
   "name": "python",
   "nbconvert_exporter": "python",
   "pygments_lexer": "ipython3",
   "version": "3.11.11"
  }
 },
 "nbformat": 4,
 "nbformat_minor": 4
}
